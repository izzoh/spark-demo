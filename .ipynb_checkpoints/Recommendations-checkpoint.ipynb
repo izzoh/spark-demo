{
 "cells": [
  {
   "cell_type": "code",
   "execution_count": 2,
   "metadata": {},
   "outputs": [
    {
     "data": {
      "text/plain": [
       "[u'1001,9001,10',\n",
       " u'1001,9002,1',\n",
       " u'1001,9003,9',\n",
       " u'1002,9001,3',\n",
       " u'1002,9002,5',\n",
       " u'1002,9003,1',\n",
       " u'1002,9004,10',\n",
       " u'1003,9001,2',\n",
       " u'1003,9002,6',\n",
       " u'1003,9003,2',\n",
       " u'1003,9004,9',\n",
       " u'1003,9005,10',\n",
       " u'1003,9006,8',\n",
       " u'1003,9007,9',\n",
       " u'1004,9001,9',\n",
       " u'1004,9002,2',\n",
       " u'1004,9003,8',\n",
       " u'1004,9004,3',\n",
       " u'1004,9010,10',\n",
       " u'1004,9011,9',\n",
       " u'1004,9012,8',\n",
       " u'1005,9001,8',\n",
       " u'1005,9002,3',\n",
       " u'1005,9003,7',\n",
       " u'1005,9004,1',\n",
       " u'1005,9010,9',\n",
       " u'1005,9011,10',\n",
       " u'1005,9012,9',\n",
       " u'1005,9013,8',\n",
       " u'1005,9014,1',\n",
       " u'1005,9015,1',\n",
       " u'1006,9001,7',\n",
       " u'1006,9002,4',\n",
       " u'1006,9003,8',\n",
       " u'1006,9004,1',\n",
       " u'1006,9010,7',\n",
       " u'1006,9011,6',\n",
       " u'1006,9012,9']"
      ]
     },
     "execution_count": 2,
     "metadata": {},
     "output_type": "execute_result"
    }
   ],
   "source": [
    "import os\n",
    "os.environ['PYSPARK_PYTHON'] = 'python2'\n",
    "import pyspark\n",
    "sc = pyspark.SparkContext('local[*]')\n",
    "#Load the data file in ALS format (user, item, rating)\n",
    "ratingsData = sc.textFile(\"data/UserItemData.txt\")\n",
    "ratingsData.collect()"
   ]
  },
  {
   "cell_type": "code",
   "execution_count": 3,
   "metadata": {
    "collapsed": true
   },
   "outputs": [],
   "source": [
    "#Convert the strings into a proper vector\n",
    "ratingVector=ratingsData.map(lambda l: l.split(','))\\\n",
    "        .map(lambda l:(int(l[0]), int(l[1]), float(l[2])))"
   ]
  },
  {
   "cell_type": "code",
   "execution_count": 4,
   "metadata": {
    "collapsed": true
   },
   "outputs": [],
   "source": [
    "#Build a SQL Dataframe\n",
    "ratingsDf=sqlContext.createDataFrame(ratingVector, \\\n",
    "            [\"user\",\"item\",\"rating\"])"
   ]
  },
  {
   "cell_type": "code",
   "execution_count": 5,
   "metadata": {},
   "outputs": [
    {
     "data": {
      "text/plain": [
       "[Row(id=1001, features=[0.9477661848068237, -0.26306432485580444, -0.21868516504764557, 0.26833340525627136, 0.6778864860534668, -0.36781007051467896, -0.549075722694397, -0.2790389358997345, -0.47511494159698486, 1.1588389873504639]),\n",
       " Row(id=1002, features=[-0.8091648817062378, -0.30282559990882874, -0.12128422409296036, -0.19082453846931458, -0.3239457905292511, -0.8982604742050171, -1.0718563795089722, 0.4833196699619293, -0.6007848978042603, -0.3463168144226074]),\n",
       " Row(id=1003, features=[-0.5987846851348877, 0.09383352100849152, 0.35906288027763367, -0.6104142665863037, -0.03656947240233421, -0.8247963786125183, -0.7968920469284058, 0.5400381684303284, -0.28230950236320496, -0.4581206440925598]),\n",
       " Row(id=1004, features=[0.4010523557662964, -0.5674224495887756, -0.13926008343696594, 0.19409587979316711, 0.6590320467948914, -0.4643614888191223, -0.9283502697944641, -0.12815609574317932, -0.44611138105392456, 0.8171139359474182]),\n",
       " Row(id=1005, features=[0.8341274261474609, 0.5243289470672607, -0.3021358847618103, 0.042595118284225464, 0.16538840532302856, -0.6701241135597229, -0.3441077470779419, 0.13379208743572235, -0.8087015151977539, 0.6462056636810303]),\n",
       " Row(id=1006, features=[0.6878281831741333, 0.3846454322338104, 0.8379786610603333, -0.7841188907623291, 0.86435866355896, -0.49200060963630676, -0.2389758676290512, 0.06896136701107025, 0.14974364638328552, 0.48181024193763733])]"
      ]
     },
     "execution_count": 5,
     "metadata": {},
     "output_type": "execute_result"
    }
   ],
   "source": [
    "#build the model based on ALS\n",
    "from pyspark.ml.recommendation import ALS\n",
    "als = ALS(rank=10, maxIter=5)\n",
    "model = als.fit(ratingsDf)\n",
    "\n",
    "model.userFactors.orderBy(\"id\").collect()"
   ]
  },
  {
   "cell_type": "code",
   "execution_count": 6,
   "metadata": {
    "collapsed": true
   },
   "outputs": [],
   "source": [
    "#Create a test data set of users and items you want ratings for\n",
    "testDf = sqlContext.createDataFrame(   \\\n",
    "        [(1001, 9003),(1001,9004),(1001,9005)], \\\n",
    "        [\"user\",\"item\"])"
   ]
  },
  {
   "cell_type": "code",
   "execution_count": 7,
   "metadata": {
    "collapsed": true
   },
   "outputs": [],
   "source": [
    "#Predict            \n",
    "predictions=sorted(model.transform(testDf).collect(), \n",
    "                   key=lambda r: r[0])"
   ]
  },
  {
   "cell_type": "code",
   "execution_count": 8,
   "metadata": {},
   "outputs": [
    {
     "data": {
      "text/plain": [
       "[Row(user=1001, item=9003, prediction=9.01999282836914),\n",
       " Row(user=1001, item=9004, prediction=-0.6917556524276733),\n",
       " Row(user=1001, item=9005, prediction=-2.7403430938720703)]"
      ]
     },
     "execution_count": 8,
     "metadata": {},
     "output_type": "execute_result"
    }
   ],
   "source": [
    "predictions"
   ]
  },
  {
   "cell_type": "code",
   "execution_count": null,
   "metadata": {
    "collapsed": true
   },
   "outputs": [],
   "source": []
  },
  {
   "cell_type": "code",
   "execution_count": null,
   "metadata": {
    "collapsed": true
   },
   "outputs": [],
   "source": []
  },
  {
   "cell_type": "code",
   "execution_count": null,
   "metadata": {
    "collapsed": true
   },
   "outputs": [],
   "source": []
  },
  {
   "cell_type": "code",
   "execution_count": null,
   "metadata": {
    "collapsed": true
   },
   "outputs": [],
   "source": []
  }
 ],
 "metadata": {
  "kernelspec": {
   "display_name": "Python 2",
   "language": "python",
   "name": "python2"
  },
  "language_info": {
   "codemirror_mode": {
    "name": "ipython",
    "version": 2
   },
   "file_extension": ".py",
   "mimetype": "text/x-python",
   "name": "python",
   "nbconvert_exporter": "python",
   "pygments_lexer": "ipython2",
   "version": "2.7.13"
  }
 },
 "nbformat": 4,
 "nbformat_minor": 2
}
