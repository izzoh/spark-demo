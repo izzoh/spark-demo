{
 "cells": [
  {
   "cell_type": "code",
   "execution_count": 1,
   "metadata": {
    "collapsed": false,
    "deletable": true,
    "editable": true
   },
   "outputs": [
    {
     "name": "stdout",
     "output_type": "stream",
     "text": [
      "+---+------+------+-----------------+------+\n",
      "|age|deptid|gender|             name|salary|\n",
      "+---+------+------+-----------------+------+\n",
      "| 32|   100|  male|Benjamin Garrison|  3000|\n",
      "| 40|   200|  male|    Holland Drake|  4500|\n",
      "| 26|   100|  male|  Burks Velasquez|  2700|\n",
      "| 51|   100|female|    June Rutledge|  4300|\n",
      "| 44|   200|  male|    Nielsen Knapp|  6500|\n",
      "+---+------+------+-----------------+------+\n",
      "\n"
     ]
    }
   ],
   "source": [
    "#Create a data frame from a JSON file\n",
    "empDf = sqlContext.read.json(\"data/customerData.json\")\n",
    "empDf.show()"
   ]
  },
  {
   "cell_type": "code",
   "execution_count": 2,
   "metadata": {
    "collapsed": false,
    "deletable": true,
    "editable": true
   },
   "outputs": [
    {
     "name": "stdout",
     "output_type": "stream",
     "text": [
      "root\n",
      " |-- age: string (nullable = true)\n",
      " |-- deptid: string (nullable = true)\n",
      " |-- gender: string (nullable = true)\n",
      " |-- name: string (nullable = true)\n",
      " |-- salary: string (nullable = true)\n",
      "\n"
     ]
    }
   ],
   "source": [
    "empDf.printSchema()"
   ]
  },
  {
   "cell_type": "code",
   "execution_count": 3,
   "metadata": {
    "collapsed": false,
    "deletable": true,
    "editable": true
   },
   "outputs": [
    {
     "name": "stdout",
     "output_type": "stream",
     "text": [
      "+-----------------+\n",
      "|             name|\n",
      "+-----------------+\n",
      "|Benjamin Garrison|\n",
      "|    Holland Drake|\n",
      "|  Burks Velasquez|\n",
      "|    June Rutledge|\n",
      "|    Nielsen Knapp|\n",
      "+-----------------+\n",
      "\n"
     ]
    }
   ],
   "source": [
    "#Do SQL queries\n",
    "empDf.select(\"name\").show()"
   ]
  },
  {
   "cell_type": "code",
   "execution_count": 4,
   "metadata": {
    "collapsed": false,
    "deletable": true,
    "editable": true
   },
   "outputs": [
    {
     "name": "stdout",
     "output_type": "stream",
     "text": [
      "+---+------+------+-------------+------+\n",
      "|age|deptid|gender|         name|salary|\n",
      "+---+------+------+-------------+------+\n",
      "| 40|   200|  male|Holland Drake|  4500|\n",
      "+---+------+------+-------------+------+\n",
      "\n"
     ]
    }
   ],
   "source": [
    "empDf.filter(empDf[\"age\"] == 40).show()"
   ]
  },
  {
   "cell_type": "code",
   "execution_count": 5,
   "metadata": {
    "collapsed": false,
    "deletable": true,
    "editable": true
   },
   "outputs": [
    {
     "name": "stdout",
     "output_type": "stream",
     "text": [
      "+------+-----+\n",
      "|gender|count|\n",
      "+------+-----+\n",
      "|female|    1|\n",
      "|  male|    4|\n",
      "+------+-----+\n",
      "\n"
     ]
    }
   ],
   "source": [
    "empDf.groupBy(\"gender\").count().show()"
   ]
  },
  {
   "cell_type": "code",
   "execution_count": 6,
   "metadata": {
    "collapsed": false,
    "deletable": true,
    "editable": true
   },
   "outputs": [
    {
     "name": "stdout",
     "output_type": "stream",
     "text": [
      "+------+------------------+--------+\n",
      "|deptid|       avg(salary)|max(age)|\n",
      "+------+------------------+--------+\n",
      "|   200|            5500.0|      44|\n",
      "|   100|3333.3333333333335|      51|\n",
      "+------+------------------+--------+\n",
      "\n"
     ]
    }
   ],
   "source": [
    "empDf.groupBy(\"deptid\").agg({\"salary\": \"avg\", \"age\": \"max\"}).show()"
   ]
  },
  {
   "cell_type": "code",
   "execution_count": 7,
   "metadata": {
    "collapsed": false,
    "deletable": true,
    "editable": true
   },
   "outputs": [
    {
     "name": "stderr",
     "output_type": "stream",
     "text": [
      "/home/isaac/spark/spark-1.6.3-bin-hadoop2.6/python/pyspark/sql/context.py:239: UserWarning: inferring schema from dict is deprecated,please use pyspark.sql.Row instead\n",
      "  warnings.warn(\"inferring schema from dict is deprecated,\"\n"
     ]
    },
    {
     "name": "stdout",
     "output_type": "stream",
     "text": [
      "+---+-----------+\n",
      "| id|       name|\n",
      "+---+-----------+\n",
      "|100|      Sales|\n",
      "|200|Engineering|\n",
      "+---+-----------+\n",
      "\n"
     ]
    }
   ],
   "source": [
    "#create a data frame from a list\n",
    "deptList = [{'name': 'Sales', 'id': \"100\"},{ 'name':'Engineering','id':\"200\" }]\n",
    "deptDf = sqlContext.createDataFrame(deptList)\n",
    "deptDf.show()"
   ]
  },
  {
   "cell_type": "code",
   "execution_count": 8,
   "metadata": {
    "collapsed": false,
    "deletable": true,
    "editable": true
   },
   "outputs": [
    {
     "name": "stdout",
     "output_type": "stream",
     "text": [
      "+---+------+------+-----------------+------+---+-----------+\n",
      "|age|deptid|gender|             name|salary| id|       name|\n",
      "+---+------+------+-----------------+------+---+-----------+\n",
      "| 32|   100|  male|Benjamin Garrison|  3000|100|      Sales|\n",
      "| 26|   100|  male|  Burks Velasquez|  2700|100|      Sales|\n",
      "| 51|   100|female|    June Rutledge|  4300|100|      Sales|\n",
      "| 40|   200|  male|    Holland Drake|  4500|200|Engineering|\n",
      "| 44|   200|  male|    Nielsen Knapp|  6500|200|Engineering|\n",
      "+---+------+------+-----------------+------+---+-----------+\n",
      "\n"
     ]
    }
   ],
   "source": [
    "#join the data frames\n",
    "empDf.join(deptDf, empDf.deptid == deptDf.id).show()"
   ]
  },
  {
   "cell_type": "code",
   "execution_count": 9,
   "metadata": {
    "collapsed": false,
    "deletable": true,
    "editable": true
   },
   "outputs": [
    {
     "name": "stdout",
     "output_type": "stream",
     "text": [
      "+------+-----------+--------+\n",
      "|deptid|avg(salary)|max(age)|\n",
      "+------+-----------+--------+\n",
      "|   200|     5500.0|      44|\n",
      "|   100|     3650.0|      51|\n",
      "+------+-----------+--------+\n",
      "\n"
     ]
    }
   ],
   "source": [
    "#cascading operations\n",
    "empDf.filter(empDf[\"age\"] >30).join(deptDf, \\\n",
    "        empDf.deptid == deptDf.id).\\\n",
    "        groupBy(\"deptid\").\\\n",
    "        agg({\"salary\": \"avg\", \"age\": \"max\"}).show()"
   ]
  },
  {
   "cell_type": "code",
   "execution_count": 10,
   "metadata": {
    "collapsed": false,
    "deletable": true,
    "editable": true
   },
   "outputs": [
    {
     "name": "stdout",
     "output_type": "stream",
     "text": [
      "+---+------+------+-------------+------+\n",
      "|age|deptid|gender|         name|salary|\n",
      "+---+------+------+-------------+------+\n",
      "| 40|   200|  male|Holland Drake|  4500|\n",
      "| 51|   100|female|June Rutledge|  4300|\n",
      "| 44|   200|  male|Nielsen Knapp|  6500|\n",
      "+---+------+------+-------------+------+\n",
      "\n"
     ]
    }
   ],
   "source": [
    "#register a data frame as table and run SQL statements against it\n",
    "empDf.registerTempTable(\"employees\")\n",
    "sqlContext.sql(\"select * from employees where salary > 4000\").show()"
   ]
  },
  {
   "cell_type": "code",
   "execution_count": 11,
   "metadata": {
    "collapsed": false,
    "deletable": true,
    "editable": true
   },
   "outputs": [
    {
     "name": "stdout",
     "output_type": "stream",
     "text": [
      "3000\n",
      "4500\n",
      "2700\n",
      "4300\n",
      "6500\n"
     ]
    }
   ],
   "source": [
    "#to pandas data frame\n",
    "empPands = empDf.toPandas()\n",
    "for index, row in empPands.iterrows():\n",
    "    print row[\"salary\"]"
   ]
  },
  {
   "cell_type": "code",
   "execution_count": 12,
   "metadata": {
    "collapsed": false,
    "deletable": true,
    "editable": true
   },
   "outputs": [
    {
     "ename": "Py4JJavaError",
     "evalue": "An error occurred while calling o77.load.\n: java.lang.ClassNotFoundException: com.mysql.jdbc.Driver\n\tat java.net.URLClassLoader.findClass(URLClassLoader.java:381)\n\tat java.lang.ClassLoader.loadClass(ClassLoader.java:424)\n\tat java.lang.ClassLoader.loadClass(ClassLoader.java:357)\n\tat org.apache.spark.sql.execution.datasources.jdbc.DriverRegistry$.register(DriverRegistry.scala:38)\n\tat org.apache.spark.sql.execution.datasources.jdbc.JdbcUtils$$anonfun$createConnectionFactory$1.apply(JdbcUtils.scala:45)\n\tat org.apache.spark.sql.execution.datasources.jdbc.JdbcUtils$$anonfun$createConnectionFactory$1.apply(JdbcUtils.scala:45)\n\tat scala.Option.foreach(Option.scala:236)\n\tat org.apache.spark.sql.execution.datasources.jdbc.JdbcUtils$.createConnectionFactory(JdbcUtils.scala:45)\n\tat org.apache.spark.sql.execution.datasources.jdbc.JDBCRDD$.resolveTable(JDBCRDD.scala:120)\n\tat org.apache.spark.sql.execution.datasources.jdbc.JDBCRelation.<init>(JDBCRelation.scala:91)\n\tat org.apache.spark.sql.execution.datasources.jdbc.DefaultSource.createRelation(DefaultSource.scala:57)\n\tat org.apache.spark.sql.execution.datasources.ResolvedDataSource$.apply(ResolvedDataSource.scala:158)\n\tat org.apache.spark.sql.DataFrameReader.load(DataFrameReader.scala:119)\n\tat sun.reflect.NativeMethodAccessorImpl.invoke0(Native Method)\n\tat sun.reflect.NativeMethodAccessorImpl.invoke(NativeMethodAccessorImpl.java:62)\n\tat sun.reflect.DelegatingMethodAccessorImpl.invoke(DelegatingMethodAccessorImpl.java:43)\n\tat java.lang.reflect.Method.invoke(Method.java:498)\n\tat py4j.reflection.MethodInvoker.invoke(MethodInvoker.java:231)\n\tat py4j.reflection.ReflectionEngine.invoke(ReflectionEngine.java:381)\n\tat py4j.Gateway.invoke(Gateway.java:259)\n\tat py4j.commands.AbstractCommand.invokeMethod(AbstractCommand.java:133)\n\tat py4j.commands.CallCommand.execute(CallCommand.java:79)\n\tat py4j.GatewayConnection.run(GatewayConnection.java:209)\n\tat java.lang.Thread.run(Thread.java:745)\n",
     "output_type": "error",
     "traceback": [
      "\u001b[0;31m---------------------------------------------------------------------------\u001b[0m",
      "\u001b[0;31mPy4JJavaError\u001b[0m                             Traceback (most recent call last)",
      "\u001b[0;32m<ipython-input-12-db353438a2b5>\u001b[0m in \u001b[0;36m<module>\u001b[0;34m()\u001b[0m\n\u001b[1;32m     10\u001b[0m     \u001b[0mdbtable\u001b[0m \u001b[0;34m=\u001b[0m \u001b[0;34m\"demotable\"\u001b[0m\u001b[0;34m,\u001b[0m\u001b[0;34m\u001b[0m\u001b[0m\n\u001b[1;32m     11\u001b[0m     \u001b[0muser\u001b[0m\u001b[0;34m=\u001b[0m\u001b[0;34m\"root\"\u001b[0m\u001b[0;34m,\u001b[0m\u001b[0;34m\u001b[0m\u001b[0m\n\u001b[0;32m---> 12\u001b[0;31m     password=\"\").load()\n\u001b[0m",
      "\u001b[0;32m/home/isaac/spark/spark-1.6.3-bin-hadoop2.6/python/pyspark/sql/readwriter.pyc\u001b[0m in \u001b[0;36mload\u001b[0;34m(self, path, format, schema, **options)\u001b[0m\n\u001b[1;32m    137\u001b[0m                 \u001b[0;32mreturn\u001b[0m \u001b[0mself\u001b[0m\u001b[0;34m.\u001b[0m\u001b[0m_df\u001b[0m\u001b[0;34m(\u001b[0m\u001b[0mself\u001b[0m\u001b[0;34m.\u001b[0m\u001b[0m_jreader\u001b[0m\u001b[0;34m.\u001b[0m\u001b[0mload\u001b[0m\u001b[0;34m(\u001b[0m\u001b[0mpath\u001b[0m\u001b[0;34m)\u001b[0m\u001b[0;34m)\u001b[0m\u001b[0;34m\u001b[0m\u001b[0m\n\u001b[1;32m    138\u001b[0m         \u001b[0;32melse\u001b[0m\u001b[0;34m:\u001b[0m\u001b[0;34m\u001b[0m\u001b[0m\n\u001b[0;32m--> 139\u001b[0;31m             \u001b[0;32mreturn\u001b[0m \u001b[0mself\u001b[0m\u001b[0;34m.\u001b[0m\u001b[0m_df\u001b[0m\u001b[0;34m(\u001b[0m\u001b[0mself\u001b[0m\u001b[0;34m.\u001b[0m\u001b[0m_jreader\u001b[0m\u001b[0;34m.\u001b[0m\u001b[0mload\u001b[0m\u001b[0;34m(\u001b[0m\u001b[0;34m)\u001b[0m\u001b[0;34m)\u001b[0m\u001b[0;34m\u001b[0m\u001b[0m\n\u001b[0m\u001b[1;32m    140\u001b[0m \u001b[0;34m\u001b[0m\u001b[0m\n\u001b[1;32m    141\u001b[0m     \u001b[0;34m@\u001b[0m\u001b[0msince\u001b[0m\u001b[0;34m(\u001b[0m\u001b[0;36m1.4\u001b[0m\u001b[0;34m)\u001b[0m\u001b[0;34m\u001b[0m\u001b[0m\n",
      "\u001b[0;32m/home/isaac/spark/spark-1.6.3-bin-hadoop2.6/python/lib/py4j-0.9-src.zip/py4j/java_gateway.py\u001b[0m in \u001b[0;36m__call__\u001b[0;34m(self, *args)\u001b[0m\n\u001b[1;32m    811\u001b[0m         \u001b[0manswer\u001b[0m \u001b[0;34m=\u001b[0m \u001b[0mself\u001b[0m\u001b[0;34m.\u001b[0m\u001b[0mgateway_client\u001b[0m\u001b[0;34m.\u001b[0m\u001b[0msend_command\u001b[0m\u001b[0;34m(\u001b[0m\u001b[0mcommand\u001b[0m\u001b[0;34m)\u001b[0m\u001b[0;34m\u001b[0m\u001b[0m\n\u001b[1;32m    812\u001b[0m         return_value = get_return_value(\n\u001b[0;32m--> 813\u001b[0;31m             answer, self.gateway_client, self.target_id, self.name)\n\u001b[0m\u001b[1;32m    814\u001b[0m \u001b[0;34m\u001b[0m\u001b[0m\n\u001b[1;32m    815\u001b[0m         \u001b[0;32mfor\u001b[0m \u001b[0mtemp_arg\u001b[0m \u001b[0;32min\u001b[0m \u001b[0mtemp_args\u001b[0m\u001b[0;34m:\u001b[0m\u001b[0;34m\u001b[0m\u001b[0m\n",
      "\u001b[0;32m/home/isaac/spark/spark-1.6.3-bin-hadoop2.6/python/pyspark/sql/utils.pyc\u001b[0m in \u001b[0;36mdeco\u001b[0;34m(*a, **kw)\u001b[0m\n\u001b[1;32m     43\u001b[0m     \u001b[0;32mdef\u001b[0m \u001b[0mdeco\u001b[0m\u001b[0;34m(\u001b[0m\u001b[0;34m*\u001b[0m\u001b[0ma\u001b[0m\u001b[0;34m,\u001b[0m \u001b[0;34m**\u001b[0m\u001b[0mkw\u001b[0m\u001b[0;34m)\u001b[0m\u001b[0;34m:\u001b[0m\u001b[0;34m\u001b[0m\u001b[0m\n\u001b[1;32m     44\u001b[0m         \u001b[0;32mtry\u001b[0m\u001b[0;34m:\u001b[0m\u001b[0;34m\u001b[0m\u001b[0m\n\u001b[0;32m---> 45\u001b[0;31m             \u001b[0;32mreturn\u001b[0m \u001b[0mf\u001b[0m\u001b[0;34m(\u001b[0m\u001b[0;34m*\u001b[0m\u001b[0ma\u001b[0m\u001b[0;34m,\u001b[0m \u001b[0;34m**\u001b[0m\u001b[0mkw\u001b[0m\u001b[0;34m)\u001b[0m\u001b[0;34m\u001b[0m\u001b[0m\n\u001b[0m\u001b[1;32m     46\u001b[0m         \u001b[0;32mexcept\u001b[0m \u001b[0mpy4j\u001b[0m\u001b[0;34m.\u001b[0m\u001b[0mprotocol\u001b[0m\u001b[0;34m.\u001b[0m\u001b[0mPy4JJavaError\u001b[0m \u001b[0;32mas\u001b[0m \u001b[0me\u001b[0m\u001b[0;34m:\u001b[0m\u001b[0;34m\u001b[0m\u001b[0m\n\u001b[1;32m     47\u001b[0m             \u001b[0ms\u001b[0m \u001b[0;34m=\u001b[0m \u001b[0me\u001b[0m\u001b[0;34m.\u001b[0m\u001b[0mjava_exception\u001b[0m\u001b[0;34m.\u001b[0m\u001b[0mtoString\u001b[0m\u001b[0;34m(\u001b[0m\u001b[0;34m)\u001b[0m\u001b[0;34m\u001b[0m\u001b[0m\n",
      "\u001b[0;32m/home/isaac/spark/spark-1.6.3-bin-hadoop2.6/python/lib/py4j-0.9-src.zip/py4j/protocol.py\u001b[0m in \u001b[0;36mget_return_value\u001b[0;34m(answer, gateway_client, target_id, name)\u001b[0m\n\u001b[1;32m    306\u001b[0m                 raise Py4JJavaError(\n\u001b[1;32m    307\u001b[0m                     \u001b[0;34m\"An error occurred while calling {0}{1}{2}.\\n\"\u001b[0m\u001b[0;34m.\u001b[0m\u001b[0;34m\u001b[0m\u001b[0m\n\u001b[0;32m--> 308\u001b[0;31m                     format(target_id, \".\", name), value)\n\u001b[0m\u001b[1;32m    309\u001b[0m             \u001b[0;32melse\u001b[0m\u001b[0;34m:\u001b[0m\u001b[0;34m\u001b[0m\u001b[0m\n\u001b[1;32m    310\u001b[0m                 raise Py4JError(\n",
      "\u001b[0;31mPy4JJavaError\u001b[0m: An error occurred while calling o77.load.\n: java.lang.ClassNotFoundException: com.mysql.jdbc.Driver\n\tat java.net.URLClassLoader.findClass(URLClassLoader.java:381)\n\tat java.lang.ClassLoader.loadClass(ClassLoader.java:424)\n\tat java.lang.ClassLoader.loadClass(ClassLoader.java:357)\n\tat org.apache.spark.sql.execution.datasources.jdbc.DriverRegistry$.register(DriverRegistry.scala:38)\n\tat org.apache.spark.sql.execution.datasources.jdbc.JdbcUtils$$anonfun$createConnectionFactory$1.apply(JdbcUtils.scala:45)\n\tat org.apache.spark.sql.execution.datasources.jdbc.JdbcUtils$$anonfun$createConnectionFactory$1.apply(JdbcUtils.scala:45)\n\tat scala.Option.foreach(Option.scala:236)\n\tat org.apache.spark.sql.execution.datasources.jdbc.JdbcUtils$.createConnectionFactory(JdbcUtils.scala:45)\n\tat org.apache.spark.sql.execution.datasources.jdbc.JDBCRDD$.resolveTable(JDBCRDD.scala:120)\n\tat org.apache.spark.sql.execution.datasources.jdbc.JDBCRelation.<init>(JDBCRelation.scala:91)\n\tat org.apache.spark.sql.execution.datasources.jdbc.DefaultSource.createRelation(DefaultSource.scala:57)\n\tat org.apache.spark.sql.execution.datasources.ResolvedDataSource$.apply(ResolvedDataSource.scala:158)\n\tat org.apache.spark.sql.DataFrameReader.load(DataFrameReader.scala:119)\n\tat sun.reflect.NativeMethodAccessorImpl.invoke0(Native Method)\n\tat sun.reflect.NativeMethodAccessorImpl.invoke(NativeMethodAccessorImpl.java:62)\n\tat sun.reflect.DelegatingMethodAccessorImpl.invoke(DelegatingMethodAccessorImpl.java:43)\n\tat java.lang.reflect.Method.invoke(Method.java:498)\n\tat py4j.reflection.MethodInvoker.invoke(MethodInvoker.java:231)\n\tat py4j.reflection.ReflectionEngine.invoke(ReflectionEngine.java:381)\n\tat py4j.Gateway.invoke(Gateway.java:259)\n\tat py4j.commands.AbstractCommand.invokeMethod(AbstractCommand.java:133)\n\tat py4j.commands.CallCommand.execute(CallCommand.java:79)\n\tat py4j.GatewayConnection.run(GatewayConnection.java:209)\n\tat java.lang.Thread.run(Thread.java:745)\n"
     ]
    }
   ],
   "source": [
    "#............................................................................\n",
    "##   Working with Databases\n",
    "#............................................................................\n",
    "#Make sure that the spark classpaths are set appropriately in the \n",
    "#spark-defaults.conf file to include the driver files\n",
    "    \n",
    "demoDf = sqlContext.read.format(\"jdbc\").options(\n",
    "    url=\"jdbc:mysql://localhost:3306/demo\",\n",
    "    driver = \"com.mysql.jdbc.Driver\",\n",
    "    dbtable = \"demotable\",\n",
    "    user=\"root\",\n",
    "    password=\"\").load()"
   ]
  },
  {
   "cell_type": "code",
   "execution_count": 13,
   "metadata": {
    "collapsed": false,
    "deletable": true,
    "editable": true
   },
   "outputs": [
    {
     "ename": "NameError",
     "evalue": "name 'demoDf' is not defined",
     "output_type": "error",
     "traceback": [
      "\u001b[0;31m---------------------------------------------------------------------------\u001b[0m",
      "\u001b[0;31mNameError\u001b[0m                                 Traceback (most recent call last)",
      "\u001b[0;32m<ipython-input-13-f47856a78582>\u001b[0m in \u001b[0;36m<module>\u001b[0;34m()\u001b[0m\n\u001b[0;32m----> 1\u001b[0;31m \u001b[0mdemoDf\u001b[0m\u001b[0;34m.\u001b[0m\u001b[0mshow\u001b[0m\u001b[0;34m(\u001b[0m\u001b[0;34m)\u001b[0m\u001b[0;34m\u001b[0m\u001b[0m\n\u001b[0m",
      "\u001b[0;31mNameError\u001b[0m: name 'demoDf' is not defined"
     ]
    }
   ],
   "source": [
    "demoDf.show()"
   ]
  },
  {
   "cell_type": "code",
   "execution_count": 15,
   "metadata": {
    "collapsed": false,
    "deletable": true,
    "editable": true
   },
   "outputs": [
    {
     "data": {
      "text/plain": [
       "197"
      ]
     },
     "execution_count": 15,
     "metadata": {},
     "output_type": "execute_result"
    }
   ],
   "source": [
    "from pyspark.sql import Row\n",
    "lines = sc.textFile(\"data/auto-data.csv\")\n",
    "#remove the first line\n",
    "datalines = lines.filter(lambda x: \"FUELTYPE\" not in x)\n",
    "datalines.count()"
   ]
  },
  {
   "cell_type": "code",
   "execution_count": 16,
   "metadata": {
    "collapsed": false,
    "deletable": true,
    "editable": true
   },
   "outputs": [
    {
     "data": {
      "text/plain": [
       "197"
      ]
     },
     "execution_count": 16,
     "metadata": {},
     "output_type": "execute_result"
    }
   ],
   "source": [
    "datalines = lines.filter(lambda x: \"FUELTYPE\" not in x)\n",
    "datalines.count()"
   ]
  },
  {
   "cell_type": "code",
   "execution_count": 17,
   "metadata": {
    "collapsed": false,
    "deletable": true,
    "editable": true
   },
   "outputs": [
    {
     "data": {
      "text/plain": [
       "[Row(body=u'hatchback', hp=69, make=u'subaru'),\n",
       " Row(body=u'hatchback', hp=48, make=u'chevrolet'),\n",
       " Row(body=u'hatchback', hp=68, make=u'mazda'),\n",
       " Row(body=u'hatchback', hp=62, make=u'toyota'),\n",
       " Row(body=u'hatchback', hp=68, make=u'mitsubishi'),\n",
       " Row(body=u'hatchback', hp=60, make=u'honda'),\n",
       " Row(body=u'sedan', hp=69, make=u'nissan'),\n",
       " Row(body=u'hatchback', hp=68, make=u'dodge'),\n",
       " Row(body=u'hatchback', hp=68, make=u'plymouth'),\n",
       " Row(body=u'hatchback', hp=68, make=u'mazda'),\n",
       " Row(body=u'hatchback', hp=68, make=u'mitsubishi'),\n",
       " Row(body=u'hatchback', hp=68, make=u'dodge'),\n",
       " Row(body=u'hatchback', hp=68, make=u'plymouth'),\n",
       " Row(body=u'hatchback', hp=70, make=u'chevrolet'),\n",
       " Row(body=u'hatchback', hp=62, make=u'toyota'),\n",
       " Row(body=u'hatchback', hp=68, make=u'dodge'),\n",
       " Row(body=u'hatchback', hp=58, make=u'honda'),\n",
       " Row(body=u'hatchback', hp=62, make=u'toyota'),\n",
       " Row(body=u'hatchback', hp=76, make=u'honda'),\n",
       " Row(body=u'sedan', hp=70, make=u'chevrolet'),\n",
       " Row(body=u'sedan', hp=69, make=u'nissan'),\n",
       " Row(body=u'hatchback', hp=68, make=u'mitsubishi'),\n",
       " Row(body=u'sedan', hp=68, make=u'dodge'),\n",
       " Row(body=u'sedan', hp=68, make=u'plymouth'),\n",
       " Row(body=u'sedan', hp=68, make=u'mazda'),\n",
       " Row(body=u'sedan', hp=78, make=u'isuzu'),\n",
       " Row(body=u'hatchback', hp=68, make=u'mazda'),\n",
       " Row(body=u'sedan', hp=69, make=u'nissan'),\n",
       " Row(body=u'hatchback', hp=76, make=u'honda'),\n",
       " Row(body=u'wagon', hp=62, make=u'toyota'),\n",
       " Row(body=u'sedan', hp=70, make=u'toyota'),\n",
       " Row(body=u'sedan', hp=88, make=u'mitsubishi'),\n",
       " Row(body=u'hatchback', hp=73, make=u'subaru'),\n",
       " Row(body=u'sedan', hp=55, make=u'nissan'),\n",
       " Row(body=u'sedan', hp=82, make=u'subaru'),\n",
       " Row(body=u'hatchback', hp=76, make=u'honda'),\n",
       " Row(body=u'hatchback', hp=70, make=u'toyota'),\n",
       " Row(body=u'sedan', hp=76, make=u'honda'),\n",
       " Row(body=u'wagon', hp=76, make=u'honda'),\n",
       " Row(body=u'sedan', hp=69, make=u'nissan'),\n",
       " Row(body=u'wagon', hp=69, make=u'nissan'),\n",
       " Row(body=u'sedan', hp=68, make=u'mazda'),\n",
       " Row(body=u'wagon', hp=82, make=u'subaru'),\n",
       " Row(body=u'sedan', hp=69, make=u'nissan'),\n",
       " Row(body=u'hatchback', hp=73, make=u'subaru'),\n",
       " Row(body=u'sedan', hp=68, make=u'dodge'),\n",
       " Row(body=u'sedan', hp=68, make=u'plymouth'),\n",
       " Row(body=u'hatchback', hp=102, make=u'mitsubishi'),\n",
       " Row(body=u'sedan', hp=70, make=u'toyota'),\n",
       " Row(body=u'sedan', hp=82, make=u'subaru'),\n",
       " Row(body=u'sedan', hp=52, make=u'volkswagen'),\n",
       " Row(body=u'hatchback', hp=56, make=u'toyota'),\n",
       " Row(body=u'hatchback', hp=69, make=u'nissan'),\n",
       " Row(body=u'hatchback', hp=86, make=u'honda'),\n",
       " Row(body=u'wagon', hp=62, make=u'toyota'),\n",
       " Row(body=u'sedan', hp=56, make=u'toyota'),\n",
       " Row(body=u'hatchback', hp=102, make=u'dodge'),\n",
       " Row(body=u'hatchback', hp=102, make=u'plymouth'),\n",
       " Row(body=u'sedan', hp=85, make=u'volkswagen'),\n",
       " Row(body=u'sedan', hp=52, make=u'volkswagen'),\n",
       " Row(body=u'wagon', hp=69, make=u'nissan'),\n",
       " Row(body=u'wagon', hp=82, make=u'subaru'),\n",
       " Row(body=u'sedan', hp=70, make=u'toyota'),\n",
       " Row(body=u'sedan', hp=88, make=u'mitsubishi'),\n",
       " Row(body=u'sedan', hp=85, make=u'volkswagen'),\n",
       " Row(body=u'hatchback', hp=70, make=u'toyota'),\n",
       " Row(body=u'hardtop', hp=69, make=u'nissan'),\n",
       " Row(body=u'hatchback', hp=70, make=u'toyota'),\n",
       " Row(body=u'hardtop', hp=116, make=u'toyota'),\n",
       " Row(body=u'sedan', hp=84, make=u'mazda'),\n",
       " Row(body=u'sedan', hp=85, make=u'volkswagen'),\n",
       " Row(body=u'hatchback', hp=88, make=u'mitsubishi'),\n",
       " Row(body=u'wagon', hp=62, make=u'toyota'),\n",
       " Row(body=u'sedan', hp=86, make=u'honda'),\n",
       " Row(body=u'hatchback', hp=84, make=u'mazda'),\n",
       " Row(body=u'wagon', hp=88, make=u'dodge'),\n",
       " Row(body=u'wagon', hp=88, make=u'plymouth'),\n",
       " Row(body=u'sedan', hp=92, make=u'toyota'),\n",
       " Row(body=u'hatchback', hp=97, make=u'nissan'),\n",
       " Row(body=u'hatchback', hp=86, make=u'honda'),\n",
       " Row(body=u'sedan', hp=82, make=u'subaru'),\n",
       " Row(body=u'sedan', hp=70, make=u'toyota'),\n",
       " Row(body=u'sedan', hp=116, make=u'mitsubishi'),\n",
       " Row(body=u'sedan', hp=116, make=u'mitsubishi'),\n",
       " Row(body=u'sedan', hp=112, make=u'toyota'),\n",
       " Row(body=u'sedan', hp=68, make=u'volkswagen'),\n",
       " Row(body=u'hatchback', hp=112, make=u'toyota'),\n",
       " Row(body=u'sedan', hp=97, make=u'nissan'),\n",
       " Row(body=u'hardtop', hp=116, make=u'toyota'),\n",
       " Row(body=u'hatchback', hp=116, make=u'mitsubishi'),\n",
       " Row(body=u'sedan', hp=94, make=u'subaru'),\n",
       " Row(body=u'hatchback', hp=90, make=u'volkswagen'),\n",
       " Row(body=u'hatchback', hp=92, make=u'toyota'),\n",
       " Row(body=u'hatchback', hp=116, make=u'toyota'),\n",
       " Row(body=u'sedan', hp=100, make=u'volkswagen'),\n",
       " Row(body=u'wagon', hp=94, make=u'subaru'),\n",
       " Row(body=u'sedan', hp=84, make=u'mazda'),\n",
       " Row(body=u'sedan', hp=86, make=u'honda'),\n",
       " Row(body=u'sedan', hp=100, make=u'honda'),\n",
       " Row(body=u'hatchback', hp=84, make=u'mazda'),\n",
       " Row(body=u'sedan', hp=73, make=u'toyota'),\n",
       " Row(body=u'sedan', hp=92, make=u'toyota'),\n",
       " Row(body=u'hatchback', hp=101, make=u'mazda'),\n",
       " Row(body=u'hatchback', hp=90, make=u'isuzu'),\n",
       " Row(body=u'hardtop', hp=116, make=u'toyota'),\n",
       " Row(body=u'hatchback', hp=84, make=u'mazda'),\n",
       " Row(body=u'hatchback', hp=92, make=u'toyota'),\n",
       " Row(body=u'sedan', hp=111, make=u'subaru'),\n",
       " Row(body=u'hatchback', hp=116, make=u'toyota'),\n",
       " Row(body=u'convertible', hp=90, make=u'volkswagen'),\n",
       " Row(body=u'wagon', hp=111, make=u'subaru'),\n",
       " Row(body=u'hatchback', hp=101, make=u'mazda'),\n",
       " Row(body=u'hatchback', hp=110, make=u'saab'),\n",
       " Row(body=u'sedan', hp=97, make=u'peugot'),\n",
       " Row(body=u'sedan', hp=110, make=u'saab'),\n",
       " Row(body=u'wagon', hp=88, make=u'volkswagen'),\n",
       " Row(body=u'wagon', hp=97, make=u'peugot'),\n",
       " Row(body=u'hatchback', hp=145, make=u'mitsubishi'),\n",
       " Row(body=u'hatchback', hp=145, make=u'plymouth'),\n",
       " Row(body=u'sedan', hp=114, make=u'volvo'),\n",
       " Row(body=u'sedan', hp=101, make=u'honda'),\n",
       " Row(body=u'hatchback', hp=145, make=u'dodge'),\n",
       " Row(body=u'sedan', hp=95, make=u'peugot'),\n",
       " Row(body=u'sedan', hp=110, make=u'volkswagen'),\n",
       " Row(body=u'wagon', hp=114, make=u'volvo'),\n",
       " Row(body=u'convertible', hp=111, make=u'alfa-romero'),\n",
       " Row(body=u'sedan', hp=152, make=u'nissan'),\n",
       " Row(body=u'sedan', hp=152, make=u'nissan'),\n",
       " Row(body=u'hatchback', hp=101, make=u'mazda'),\n",
       " Row(body=u'sedan', hp=68, make=u'volkswagen'),\n",
       " Row(body=u'wagon', hp=95, make=u'peugot'),\n",
       " Row(body=u'sedan', hp=102, make=u'audi'),\n",
       " Row(body=u'wagon', hp=152, make=u'nissan'),\n",
       " Row(body=u'hatchback', hp=145, make=u'mitsubishi'),\n",
       " Row(body=u'hatchback', hp=145, make=u'mitsubishi'),\n",
       " Row(body=u'hatchback', hp=110, make=u'saab'),\n",
       " Row(body=u'sedan', hp=110, make=u'audi'),\n",
       " Row(body=u'sedan', hp=110, make=u'saab'),\n",
       " Row(body=u'sedan', hp=95, make=u'peugot'),\n",
       " Row(body=u'hatchback', hp=135, make=u'mazda'),\n",
       " Row(body=u'sedan', hp=156, make=u'toyota'),\n",
       " Row(body=u'wagon', hp=156, make=u'toyota'),\n",
       " Row(body=u'sedan', hp=114, make=u'volvo'),\n",
       " Row(body=u'hatchback', hp=161, make=u'toyota'),\n",
       " Row(body=u'sedan', hp=101, make=u'bmw'),\n",
       " Row(body=u'convertible', hp=111, make=u'alfa-romero'),\n",
       " Row(body=u'hatchback', hp=154, make=u'alfa-romero'),\n",
       " Row(body=u'hatchback', hp=175, make=u'mercury'),\n",
       " Row(body=u'wagon', hp=114, make=u'volvo'),\n",
       " Row(body=u'hatchback', hp=161, make=u'toyota'),\n",
       " Row(body=u'sedan', hp=97, make=u'peugot'),\n",
       " Row(body=u'wagon', hp=95, make=u'peugot'),\n",
       " Row(body=u'sedan', hp=114, make=u'volvo'),\n",
       " Row(body=u'sedan', hp=95, make=u'peugot'),\n",
       " Row(body=u'sedan', hp=101, make=u'bmw'),\n",
       " Row(body=u'wagon', hp=95, make=u'peugot'),\n",
       " Row(body=u'hatchback', hp=160, make=u'nissan'),\n",
       " Row(body=u'sedan', hp=115, make=u'audi'),\n",
       " Row(body=u'convertible', hp=116, make=u'toyota'),\n",
       " Row(body=u'sedan', hp=110, make=u'audi'),\n",
       " Row(body=u'sedan', hp=95, make=u'peugot'),\n",
       " Row(body=u'sedan', hp=142, make=u'peugot'),\n",
       " Row(body=u'hatchback', hp=160, make=u'saab'),\n",
       " Row(body=u'sedan', hp=120, make=u'mazda'),\n",
       " Row(body=u'sedan', hp=72, make=u'mazda'),\n",
       " Row(body=u'hatchback', hp=160, make=u'nissan'),\n",
       " Row(body=u'sedan', hp=162, make=u'volvo'),\n",
       " Row(body=u'sedan', hp=160, make=u'saab'),\n",
       " Row(body=u'wagon', hp=110, make=u'audi'),\n",
       " Row(body=u'wagon', hp=162, make=u'volvo'),\n",
       " Row(body=u'sedan', hp=160, make=u'volvo'),\n",
       " Row(body=u'hatchback', hp=200, make=u'nissan'),\n",
       " Row(body=u'sedan', hp=121, make=u'bmw'),\n",
       " Row(body=u'sedan', hp=121, make=u'bmw'),\n",
       " Row(body=u'sedan', hp=134, make=u'volvo'),\n",
       " Row(body=u'hatchback', hp=143, make=u'porsche'),\n",
       " Row(body=u'sedan', hp=106, make=u'volvo'),\n",
       " Row(body=u'sedan', hp=114, make=u'volvo'),\n",
       " Row(body=u'sedan', hp=140, make=u'audi'),\n",
       " Row(body=u'sedan', hp=121, make=u'bmw'),\n",
       " Row(body=u'sedan', hp=123, make=u'mercedes-benz'),\n",
       " Row(body=u'hardtop', hp=123, make=u'mercedes-benz'),\n",
       " Row(body=u'wagon', hp=123, make=u'mercedes-benz'),\n",
       " Row(body=u'sedan', hp=182, make=u'bmw'),\n",
       " Row(body=u'sedan', hp=123, make=u'mercedes-benz'),\n",
       " Row(body=u'sedan', hp=176, make=u'jaguar'),\n",
       " Row(body=u'hardtop', hp=207, make=u'porsche'),\n",
       " Row(body=u'hardtop', hp=207, make=u'porsche'),\n",
       " Row(body=u'sedan', hp=155, make=u'mercedes-benz'),\n",
       " Row(body=u'convertible', hp=155, make=u'mercedes-benz'),\n",
       " Row(body=u'sedan', hp=176, make=u'jaguar'),\n",
       " Row(body=u'sedan', hp=262, make=u'jaguar'),\n",
       " Row(body=u'sedan', hp=182, make=u'bmw'),\n",
       " Row(body=u'convertible', hp=207, make=u'porsche'),\n",
       " Row(body=u'sedan', hp=184, make=u'mercedes-benz'),\n",
       " Row(body=u'sedan', hp=182, make=u'bmw'),\n",
       " Row(body=u'hardtop', hp=184, make=u'mercedes-benz')]"
      ]
     },
     "execution_count": 17,
     "metadata": {},
     "output_type": "execute_result"
    }
   ],
   "source": [
    "parts = datalines.map(lambda l: l.split(\",\"))\n",
    "autoMap = parts.map(lambda p: Row(make=p[0],\\\n",
    "         body=p[4], hp=int(p[7])))\n",
    "autoMap.collect()"
   ]
  },
  {
   "cell_type": "code",
   "execution_count": 18,
   "metadata": {
    "collapsed": false,
    "deletable": true,
    "editable": true
   },
   "outputs": [
    {
     "name": "stdout",
     "output_type": "stream",
     "text": [
      "+-----------+---+-------+\n",
      "|       body| hp|   make|\n",
      "+-----------+---+-------+\n",
      "|    hardtop|207|porsche|\n",
      "|    hardtop|207|porsche|\n",
      "|      sedan|262| jaguar|\n",
      "|convertible|207|porsche|\n",
      "+-----------+---+-------+\n",
      "\n"
     ]
    }
   ],
   "source": [
    "# Infer the schema, and register the DataFrame as a table.\n",
    "autoDf = sqlContext.createDataFrame(autoMap)\n",
    "autoDf.registerTempTable(\"autos\")\n",
    "sqlContext.sql(\"select * from autos where hp > 200\").show()"
   ]
  },
  {
   "cell_type": "code",
   "execution_count": null,
   "metadata": {
    "collapsed": true,
    "deletable": true,
    "editable": true
   },
   "outputs": [],
   "source": []
  }
 ],
 "metadata": {
  "kernelspec": {
   "display_name": "Python 2",
   "language": "python",
   "name": "python2"
  },
  "language_info": {
   "codemirror_mode": {
    "name": "ipython",
    "version": 2
   },
   "file_extension": ".py",
   "mimetype": "text/x-python",
   "name": "python",
   "nbconvert_exporter": "python",
   "pygments_lexer": "ipython2",
   "version": "2.7.5"
  }
 },
 "nbformat": 4,
 "nbformat_minor": 2
}
