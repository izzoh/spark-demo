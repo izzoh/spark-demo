{
 "cells": [
  {
   "cell_type": "code",
   "execution_count": 1,
   "metadata": {
    "collapsed": false,
    "deletable": true,
    "editable": true
   },
   "outputs": [
    {
     "data": {
      "text/plain": [
       "[u'MAKE,FUELTYPE,ASPIRE,DOORS,BODY,DRIVE,CYLINDERS,HP,RPM,MPG-CITY,MPG-HWY,PRICE',\n",
       " u'subaru,gas,std,two,hatchback,fwd,four,69,4900,31,36,5118',\n",
       " u'chevrolet,gas,std,two,hatchback,fwd,three,48,5100,47,53,5151',\n",
       " u'mazda,gas,std,two,hatchback,fwd,four,68,5000,30,31,5195',\n",
       " u'toyota,gas,std,two,hatchback,fwd,four,62,4800,35,39,5348']"
      ]
     },
     "execution_count": 1,
     "metadata": {},
     "output_type": "execute_result"
    }
   ],
   "source": [
    "#Load the file. Lazy initialization\n",
    "autoData = sc.textFile(\"data/auto-data.csv\")\n",
    "autoData.cache()\n",
    "#Loads only now.\n",
    "autoData.count()\n",
    "autoData.first()\n",
    "autoData.take(5)"
   ]
  },
  {
   "cell_type": "code",
   "execution_count": 2,
   "metadata": {
    "collapsed": false,
    "deletable": true,
    "editable": true
   },
   "outputs": [
    {
     "name": "stdout",
     "output_type": "stream",
     "text": [
      "MAKE,FUELTYPE,ASPIRE,DOORS,BODY,DRIVE,CYLINDERS,HP,RPM,MPG-CITY,MPG-HWY,PRICE\n",
      "subaru,gas,std,two,hatchback,fwd,four,69,4900,31,36,5118\n",
      "chevrolet,gas,std,two,hatchback,fwd,three,48,5100,47,53,5151\n",
      "mazda,gas,std,two,hatchback,fwd,four,68,5000,30,31,5195\n",
      "toyota,gas,std,two,hatchback,fwd,four,62,4800,35,39,5348\n",
      "mitsubishi,gas,std,two,hatchback,fwd,four,68,5500,37,41,5389\n",
      "honda,gas,std,two,hatchback,fwd,four,60,5500,38,42,5399\n",
      "nissan,gas,std,two,sedan,fwd,four,69,5200,31,37,5499\n",
      "dodge,gas,std,two,hatchback,fwd,four,68,5500,37,41,5572\n",
      "plymouth,gas,std,two,hatchback,fwd,four,68,5500,37,41,5572\n",
      "mazda,gas,std,two,hatchback,fwd,four,68,5000,31,38,6095\n",
      "mitsubishi,gas,std,two,hatchback,fwd,four,68,5500,31,38,6189\n",
      "dodge,gas,std,four,hatchback,fwd,four,68,5500,31,38,6229\n",
      "plymouth,gas,std,four,hatchback,fwd,four,68,5500,31,38,6229\n",
      "chevrolet,gas,std,two,hatchback,fwd,four,70,5400,38,43,6295\n",
      "toyota,gas,std,two,hatchback,fwd,four,62,4800,31,38,6338\n",
      "dodge,gas,std,two,hatchback,fwd,four,68,5500,31,38,6377\n",
      "honda,gas,std,two,hatchback,fwd,four,58,4800,49,54,6479\n",
      "toyota,gas,std,four,hatchback,fwd,four,62,4800,31,38,6488\n",
      "honda,gas,std,two,hatchback,fwd,four,76,6000,30,34,6529\n",
      "chevrolet,gas,std,four,sedan,fwd,four,70,5400,38,43,6575\n",
      "nissan,gas,std,two,sedan,fwd,four,69,5200,31,37,6649\n",
      "mitsubishi,gas,std,two,hatchback,fwd,four,68,5500,31,38,6669\n",
      "dodge,gas,std,four,sedan,fwd,four,68,5500,31,38,6692\n",
      "plymouth,gas,std,four,sedan,fwd,four,68,5500,31,38,6692\n",
      "mazda,gas,std,four,sedan,fwd,four,68,5000,31,38,6695\n",
      "isuzu,gas,std,four,sedan,rwd,four,78,4800,24,29,6785\n",
      "mazda,gas,std,two,hatchback,fwd,four,68,5000,31,38,6795\n",
      "nissan,gas,std,four,sedan,fwd,four,69,5200,31,37,6849\n",
      "honda,gas,std,two,hatchback,fwd,four,76,6000,31,38,6855\n",
      "toyota,gas,std,four,wagon,fwd,four,62,4800,31,37,6918\n",
      "toyota,gas,std,four,sedan,fwd,four,70,4800,30,37,6938\n",
      "mitsubishi,gas,std,four,sedan,fwd,four,88,5000,25,32,6989\n",
      "subaru,gas,std,two,hatchback,fwd,four,73,4400,26,31,7053\n",
      "nissan,diesel,std,two,sedan,fwd,four,55,4800,45,50,7099\n",
      "subaru,gas,std,four,sedan,fwd,four,82,4800,32,37,7126\n",
      "honda,gas,std,two,hatchback,fwd,four,76,6000,30,34,7129\n",
      "toyota,gas,std,four,hatchback,fwd,four,70,4800,30,37,7198\n",
      "honda,gas,std,four,sedan,fwd,four,76,6000,30,34,7295\n",
      "honda,gas,std,four,wagon,fwd,four,76,6000,30,34,7295\n",
      "nissan,gas,std,two,sedan,fwd,four,69,5200,31,37,7299\n",
      "nissan,gas,std,four,wagon,fwd,four,69,5200,31,37,7349\n",
      "mazda,gas,std,four,sedan,fwd,four,68,5000,31,38,7395\n",
      "subaru,gas,std,four,wagon,fwd,four,82,4800,28,32,7463\n",
      "nissan,gas,std,four,sedan,fwd,four,69,5200,31,37,7499\n",
      "subaru,gas,std,two,hatchback,4wd,four,73,4400,26,31,7603\n",
      "dodge,gas,std,four,sedan,fwd,four,68,5500,31,38,7609\n",
      "plymouth,gas,std,four,sedan,fwd,four,68,5500,31,38,7609\n",
      "mitsubishi,gas,turbo,two,hatchback,fwd,four,102,5500,24,30,7689\n",
      "toyota,gas,std,four,sedan,fwd,four,70,4800,38,47,7738\n",
      "subaru,gas,std,four,sedan,fwd,four,82,4400,28,33,7775\n",
      "volkswagen,diesel,std,two,sedan,fwd,four,52,4800,37,46,7775\n",
      "toyota,diesel,std,four,hatchback,fwd,four,56,4500,38,47,7788\n",
      "nissan,gas,std,two,hatchback,fwd,four,69,5200,31,37,7799\n",
      "honda,gas,std,two,hatchback,fwd,four,86,5800,27,33,7895\n",
      "toyota,gas,std,four,wagon,4wd,four,62,4800,27,32,7898\n",
      "toyota,diesel,std,four,sedan,fwd,four,56,4500,34,36,7898\n",
      "dodge,gas,turbo,two,hatchback,fwd,four,102,5500,24,30,7957\n",
      "plymouth,gas,turbo,two,hatchback,fwd,four,102,5500,24,30,7957\n",
      "volkswagen,gas,std,two,sedan,fwd,four,85,5250,27,34,7975\n",
      "volkswagen,diesel,std,four,sedan,fwd,four,52,4800,37,46,7995\n",
      "nissan,gas,std,four,wagon,fwd,four,69,5200,31,37,7999\n",
      "subaru,gas,std,four,wagon,4wd,four,82,4800,23,29,8013\n",
      "toyota,gas,std,two,sedan,rwd,four,70,4800,29,34,8058\n",
      "mitsubishi,gas,std,four,sedan,fwd,four,88,5000,25,32,8189\n",
      "volkswagen,gas,std,four,sedan,fwd,four,85,5250,27,34,8195\n",
      "toyota,gas,std,two,hatchback,rwd,four,70,4800,29,34,8238\n",
      "nissan,gas,std,two,hardtop,fwd,four,69,5200,31,37,8249\n",
      "toyota,gas,std,four,hatchback,fwd,four,70,4800,28,34,8358\n",
      "toyota,gas,std,two,hardtop,rwd,four,116,4800,24,30,8449\n",
      "mazda,gas,std,four,sedan,fwd,four,84,4800,26,32,8495\n",
      "volkswagen,gas,std,four,sedan,fwd,four,85,5250,27,34,8495\n",
      "mitsubishi,gas,std,two,hatchback,fwd,four,88,5000,25,32,8499\n",
      "toyota,gas,std,four,wagon,4wd,four,62,4800,27,32,8778\n",
      "honda,gas,std,four,sedan,fwd,four,86,5800,27,33,8845\n",
      "mazda,gas,std,two,hatchback,fwd,four,84,4800,26,32,8845\n",
      "dodge,gas,std,four,wagon,fwd,four,88,5000,24,30,8921\n",
      "plymouth,gas,std,four,wagon,fwd,four,88,5000,24,30,8921\n",
      "toyota,gas,std,four,sedan,fwd,four,92,4200,29,34,8948\n",
      "nissan,gas,std,four,hatchback,fwd,four,97,5200,27,34,8949\n",
      "honda,gas,std,two,hatchback,fwd,four,86,5800,27,33,9095\n",
      "subaru,gas,std,four,sedan,4wd,four,82,4800,24,25,9233\n",
      "toyota,gas,std,four,sedan,fwd,four,70,4800,28,34,9258\n",
      "mitsubishi,gas,turbo,four,sedan,fwd,four,116,5500,23,30,9279\n",
      "mitsubishi,gas,std,four,sedan,fwd,four,116,5500,23,30,9279\n",
      "toyota,gas,std,two,sedan,rwd,four,112,6600,26,29,9298\n",
      "volkswagen,diesel,turbo,four,sedan,fwd,four,68,4500,37,42,9495\n",
      "toyota,gas,std,two,hatchback,rwd,four,112,6600,26,29,9538\n",
      "nissan,gas,std,four,sedan,fwd,four,97,5200,27,34,9549\n",
      "toyota,gas,std,two,hardtop,rwd,four,116,4800,24,30,9639\n",
      "mitsubishi,gas,turbo,two,hatchback,fwd,four,116,5500,23,30,9959\n",
      "subaru,gas,std,four,sedan,fwd,four,94,5200,26,32,9960\n",
      "volkswagen,gas,std,two,hatchback,fwd,four,90,5500,24,29,9980\n",
      "toyota,gas,std,four,hatchback,fwd,four,92,4200,27,32,9988\n",
      "toyota,gas,std,two,hatchback,rwd,four,116,4800,24,30,9989\n",
      "volkswagen,gas,std,four,sedan,fwd,four,100,5500,26,32,9995\n",
      "subaru,gas,std,four,wagon,fwd,four,94,5200,25,31,10198\n",
      "mazda,gas,std,four,sedan,fwd,four,84,4800,26,32,10245\n",
      "honda,gas,std,four,sedan,fwd,four,86,5800,27,33,10295\n",
      "honda,gas,std,two,sedan,fwd,four,100,5500,25,31,10345\n",
      "mazda,gas,std,two,hatchback,fwd,four,84,4800,26,32,10595\n",
      "toyota,diesel,turbo,four,sedan,fwd,four,73,4500,30,33,10698\n",
      "toyota,gas,std,four,sedan,fwd,four,92,4200,27,32,10898\n",
      "mazda,gas,std,two,hatchback,rwd,two,101,6000,17,23,10945\n",
      "isuzu,gas,std,two,hatchback,rwd,four,90,5000,24,29,11048\n",
      "toyota,gas,std,two,hardtop,rwd,four,116,4800,24,30,11199\n",
      "mazda,gas,std,four,hatchback,fwd,four,84,4800,26,32,11245\n",
      "toyota,gas,std,four,hatchback,fwd,four,92,4200,27,32,11248\n",
      "subaru,gas,turbo,four,sedan,4wd,four,111,4800,24,29,11259\n",
      "toyota,gas,std,two,hatchback,rwd,four,116,4800,24,30,11549\n",
      "volkswagen,gas,std,two,convertible,fwd,four,90,5500,24,29,11595\n",
      "subaru,gas,turbo,four,wagon,4wd,four,111,4800,23,23,11694\n",
      "mazda,gas,std,two,hatchback,rwd,two,101,6000,17,23,11845\n",
      "saab,gas,std,two,hatchback,fwd,four,110,5250,21,28,11850\n",
      "peugot,gas,std,four,sedan,rwd,four,97,5000,19,24,11900\n",
      "saab,gas,std,four,sedan,fwd,four,110,5250,21,28,12170\n",
      "volkswagen,gas,std,four,wagon,fwd,four,88,5500,25,31,12290\n",
      "peugot,gas,std,four,wagon,rwd,four,97,5000,19,24,12440\n",
      "mitsubishi,gas,turbo,two,hatchback,fwd,four,145,5000,19,24,12629\n",
      "plymouth,gas,turbo,two,hatchback,rwd,four,145,5000,19,24,12764\n",
      "volvo,gas,std,four,sedan,rwd,four,114,5400,23,28,12940\n",
      "honda,gas,std,four,sedan,fwd,four,101,5800,24,28,12945\n",
      "dodge,gas,turbo,two,hatchback,fwd,four,145,5000,19,24,12964\n",
      "peugot,diesel,turbo,four,sedan,rwd,four,95,4150,28,33,13200\n",
      "volkswagen,gas,std,four,sedan,fwd,five,110,5500,19,24,13295\n",
      "volvo,gas,std,four,wagon,rwd,four,114,5400,23,28,13415\n",
      "alfa-romero,gas,std,two,convertible,rwd,four,111,5000,21,27,13495\n",
      "nissan,gas,std,four,sedan,fwd,six,152,5200,17,22,13499\n",
      "nissan,gas,std,four,sedan,fwd,six,152,5200,19,25,13499\n",
      "mazda,gas,std,two,hatchback,rwd,two,101,6000,17,23,13645\n",
      "volkswagen,diesel,turbo,four,sedan,fwd,four,68,4500,33,38,13845\n",
      "peugot,diesel,turbo,four,wagon,rwd,four,95,4150,25,25,13860\n",
      "audi,gas,std,four,sedan,fwd,four,102,5500,24,30,13950\n",
      "nissan,gas,std,four,wagon,fwd,six,152,5200,17,22,14399\n",
      "mitsubishi,gas,turbo,two,hatchback,fwd,four,145,5000,19,24,14489\n",
      "mitsubishi,gas,turbo,two,hatchback,fwd,four,145,5000,19,24,14869\n",
      "saab,gas,std,two,hatchback,fwd,four,110,5250,21,28,15040\n",
      "audi,gas,std,two,sedan,fwd,five,110,5500,19,25,15250\n",
      "saab,gas,std,four,sedan,fwd,four,110,5250,21,28,15510\n",
      "peugot,gas,std,four,sedan,rwd,four,95,5000,19,24,15580\n",
      "mazda,gas,std,two,hatchback,rwd,two,135,6000,16,23,15645\n",
      "toyota,gas,std,four,sedan,rwd,six,156,5200,20,24,15690\n",
      "toyota,gas,std,four,wagon,rwd,six,156,5200,19,24,15750\n",
      "volvo,gas,std,four,sedan,rwd,four,114,5400,24,28,15985\n",
      "toyota,gas,std,two,hatchback,rwd,six,161,5200,19,24,15998\n",
      "bmw,gas,std,two,sedan,rwd,four,101,5800,23,29,16430\n",
      "alfa-romero,gas,std,two,convertible,rwd,four,111,5000,21,27,16500\n",
      "alfa-romero,gas,std,two,hatchback,rwd,six,154,5000,19,26,16500\n",
      "mercury,gas,turbo,two,hatchback,rwd,four,175,5000,19,24,16503\n",
      "volvo,gas,std,four,wagon,rwd,four,114,5400,24,28,16515\n",
      "toyota,gas,std,two,hatchback,rwd,six,161,5200,20,24,16558\n",
      "peugot,gas,std,four,sedan,rwd,four,97,5000,19,24,16630\n",
      "peugot,gas,std,four,wagon,rwd,four,95,5000,19,24,16695\n",
      "volvo,gas,std,four,sedan,rwd,four,114,5400,23,28,16845\n",
      "peugot,diesel,turbo,four,sedan,rwd,four,95,4150,28,33,16900\n",
      "bmw,gas,std,four,sedan,rwd,four,101,5800,23,29,16925\n",
      "peugot,diesel,turbo,four,wagon,rwd,four,95,4150,25,25,17075\n",
      "nissan,gas,std,two,hatchback,rwd,six,160,5200,19,25,17199\n",
      "audi,gas,std,four,sedan,4wd,five,115,5500,18,22,17450\n",
      "toyota,gas,std,two,convertible,rwd,four,116,4800,24,30,17669\n",
      "audi,gas,std,four,sedan,fwd,five,110,5500,19,25,17710\n",
      "peugot,diesel,turbo,four,sedan,rwd,four,95,4150,28,33,17950\n",
      "peugot,gas,turbo,four,sedan,rwd,four,142,5600,18,24,18150\n",
      "saab,gas,turbo,two,hatchback,fwd,four,160,5500,19,26,18150\n",
      "mazda,gas,std,four,sedan,rwd,four,120,5000,19,27,18280\n",
      "mazda,diesel,std,four,sedan,rwd,four,72,4200,31,39,18344\n",
      "nissan,gas,std,two,hatchback,rwd,six,160,5200,19,25,18399\n",
      "volvo,gas,turbo,four,sedan,rwd,four,162,5100,17,22,18420\n",
      "saab,gas,turbo,four,sedan,fwd,four,160,5500,19,26,18620\n",
      "audi,gas,std,four,wagon,fwd,five,110,5500,19,25,18920\n",
      "volvo,gas,turbo,four,wagon,rwd,four,162,5100,17,22,18950\n",
      "volvo,gas,turbo,four,sedan,rwd,four,160,5300,19,25,19045\n",
      "nissan,gas,turbo,two,hatchback,rwd,six,200,5200,17,23,19699\n",
      "bmw,gas,std,two,sedan,rwd,six,121,4250,21,28,20970\n",
      "bmw,gas,std,four,sedan,rwd,six,121,4250,21,28,21105\n",
      "volvo,gas,std,four,sedan,rwd,six,134,5500,18,23,21485\n",
      "porsche,gas,std,two,hatchback,rwd,four,143,5500,19,27,22018\n",
      "volvo,diesel,turbo,four,sedan,rwd,six,106,4800,26,27,22470\n",
      "volvo,gas,turbo,four,sedan,rwd,four,114,5400,19,25,22625\n",
      "audi,gas,turbo,four,sedan,fwd,five,140,5500,17,20,23875\n",
      "bmw,gas,std,four,sedan,rwd,six,121,4250,20,25,24565\n",
      "mercedes-benz,diesel,turbo,four,sedan,rwd,five,123,4350,22,25,25552\n",
      "mercedes-benz,diesel,turbo,two,hardtop,rwd,five,123,4350,22,25,28176\n",
      "mercedes-benz,diesel,turbo,four,wagon,rwd,five,123,4350,22,25,28248\n",
      "bmw,gas,std,four,sedan,rwd,six,182,5400,16,22,30760\n",
      "mercedes-benz,diesel,turbo,four,sedan,rwd,five,123,4350,22,25,31600\n",
      "jaguar,gas,std,four,sedan,rwd,six,176,4750,15,19,32250\n",
      "porsche,gas,std,two,hardtop,rwd,six,207,5900,17,25,32528\n",
      "porsche,gas,std,two,hardtop,rwd,six,207,5900,17,25,34028\n",
      "mercedes-benz,gas,std,four,sedan,rwd,eight,155,4750,16,18,34184\n",
      "mercedes-benz,gas,std,two,convertible,rwd,eight,155,4750,16,18,35056\n",
      "jaguar,gas,std,four,sedan,rwd,six,176,4750,15,19,35550\n",
      "jaguar,gas,std,two,sedan,rwd,twelve,262,5000,13,17,36000\n",
      "bmw,gas,std,four,sedan,rwd,six,182,5400,15,20,36880\n",
      "porsche,gas,std,two,convertible,rwd,six,207,5900,17,25,37028\n",
      "mercedes-benz,gas,std,four,sedan,rwd,eight,184,4500,14,16,40960\n",
      "bmw,gas,std,two,sedan,rwd,six,182,5400,16,22,41315\n",
      "mercedes-benz,gas,std,two,hardtop,rwd,eight,184,4500,14,16,45400\n"
     ]
    }
   ],
   "source": [
    "for line in autoData.collect():\n",
    "    print line"
   ]
  },
  {
   "cell_type": "code",
   "execution_count": 3,
   "metadata": {
    "collapsed": false,
    "deletable": true,
    "editable": true
   },
   "outputs": [
    {
     "data": {
      "text/plain": [
       "5"
      ]
     },
     "execution_count": 3,
     "metadata": {},
     "output_type": "execute_result"
    }
   ],
   "source": [
    "#............................................................................\n",
    "##   Loading Data From a Collection\n",
    "#............................................................................\n",
    "collData=sc.parallelize([3,5,4,7,4])\n",
    "collData.cache()\n",
    "collData.count()"
   ]
  },
  {
   "cell_type": "code",
   "execution_count": 4,
   "metadata": {
    "collapsed": true,
    "deletable": true,
    "editable": true
   },
   "outputs": [],
   "source": [
    "#............................................................................\n",
    "##   Transformations\n",
    "#............................................................................\n"
   ]
  },
  {
   "cell_type": "code",
   "execution_count": 5,
   "metadata": {
    "collapsed": false,
    "deletable": true,
    "editable": true
   },
   "outputs": [
    {
     "data": {
      "text/plain": [
       "[u'MAKE\\tFUELTYPE\\tASPIRE\\tDOORS\\tBODY\\tDRIVE\\tCYLINDERS\\tHP\\tRPM\\tMPG-CITY\\tMPG-HWY\\tPRICE',\n",
       " u'subaru\\tgas\\tstd\\ttwo\\thatchback\\tfwd\\tfour\\t69\\t4900\\t31\\t36\\t5118',\n",
       " u'chevrolet\\tgas\\tstd\\ttwo\\thatchback\\tfwd\\tthree\\t48\\t5100\\t47\\t53\\t5151',\n",
       " u'mazda\\tgas\\tstd\\ttwo\\thatchback\\tfwd\\tfour\\t68\\t5000\\t30\\t31\\t5195',\n",
       " u'toyota\\tgas\\tstd\\ttwo\\thatchback\\tfwd\\tfour\\t62\\t4800\\t35\\t39\\t5348']"
      ]
     },
     "execution_count": 5,
     "metadata": {},
     "output_type": "execute_result"
    }
   ],
   "source": [
    "#Map and create a new RDD\n",
    "tsvData=autoData.map(lambda x : x.replace(\",\",\"\\t\"))\n",
    "tsvData.take(5)"
   ]
  },
  {
   "cell_type": "code",
   "execution_count": 6,
   "metadata": {
    "collapsed": false,
    "deletable": true,
    "editable": true
   },
   "outputs": [
    {
     "data": {
      "text/plain": [
       "32"
      ]
     },
     "execution_count": 6,
     "metadata": {},
     "output_type": "execute_result"
    }
   ],
   "source": [
    "#Filter and create a new RDD\n",
    "toyotaData=autoData.filter(lambda x: \"toyota\" in x)\n",
    "toyotaData.count()"
   ]
  },
  {
   "cell_type": "code",
   "execution_count": 7,
   "metadata": {
    "collapsed": false,
    "deletable": true,
    "editable": true
   },
   "outputs": [
    {
     "data": {
      "text/plain": [
       "[u'toyota',\n",
       " u'gas',\n",
       " u'std',\n",
       " u'two',\n",
       " u'hatchback',\n",
       " u'fwd',\n",
       " u'four',\n",
       " u'62',\n",
       " u'4800',\n",
       " u'35',\n",
       " u'39',\n",
       " u'5348',\n",
       " u'toyota',\n",
       " u'gas',\n",
       " u'std',\n",
       " u'two',\n",
       " u'hatchback',\n",
       " u'fwd',\n",
       " u'four',\n",
       " u'62']"
      ]
     },
     "execution_count": 7,
     "metadata": {},
     "output_type": "execute_result"
    }
   ],
   "source": [
    "#FlatMap\n",
    "words=toyotaData.flatMap(lambda line: line.split(\",\"))\n",
    "words.take(20)"
   ]
  },
  {
   "cell_type": "code",
   "execution_count": 8,
   "metadata": {
    "collapsed": false,
    "deletable": true,
    "editable": true
   },
   "outputs": [
    {
     "name": "stdout",
     "output_type": "stream",
     "text": [
      "4\n",
      "3\n",
      "5\n",
      "7\n"
     ]
    }
   ],
   "source": [
    "#Distinct\n",
    "for numbData in collData.distinct().collect():\n",
    "    print numbData"
   ]
  },
  {
   "cell_type": "code",
   "execution_count": 9,
   "metadata": {
    "collapsed": true,
    "deletable": true,
    "editable": true
   },
   "outputs": [],
   "source": [
    "#Set operations\n",
    "words1 = sc.parallelize([\"hello\",\"war\",\"peace\",\"world\"])\n",
    "words2 = sc.parallelize([\"war\",\"peace\",\"universe\"])"
   ]
  },
  {
   "cell_type": "code",
   "execution_count": 10,
   "metadata": {
    "collapsed": false,
    "deletable": true,
    "editable": true
   },
   "outputs": [
    {
     "name": "stdout",
     "output_type": "stream",
     "text": [
      "world\n",
      "universe\n",
      "hello\n",
      "war\n",
      "peace\n"
     ]
    }
   ],
   "source": [
    "for unions in words1.union(words2).distinct().collect():\n",
    "    print unions"
   ]
  },
  {
   "cell_type": "code",
   "execution_count": 11,
   "metadata": {
    "collapsed": false,
    "deletable": true,
    "editable": true
   },
   "outputs": [
    {
     "name": "stdout",
     "output_type": "stream",
     "text": [
      "war\n",
      "peace\n"
     ]
    }
   ],
   "source": [
    "for intersects in words1.intersection(words2).collect():\n",
    "    print intersects\n"
   ]
  },
  {
   "cell_type": "code",
   "execution_count": 12,
   "metadata": {
    "collapsed": true,
    "deletable": true,
    "editable": true
   },
   "outputs": [],
   "source": [
    "#............................................................................\n",
    "##   Actions\n",
    "#............................................................................"
   ]
  },
  {
   "cell_type": "code",
   "execution_count": 13,
   "metadata": {
    "collapsed": false,
    "deletable": true,
    "editable": true
   },
   "outputs": [
    {
     "data": {
      "text/plain": [
       "23"
      ]
     },
     "execution_count": 13,
     "metadata": {},
     "output_type": "execute_result"
    }
   ],
   "source": [
    "#reduce\n",
    "collData.reduce(lambda x,y: x+y)"
   ]
  },
  {
   "cell_type": "code",
   "execution_count": 14,
   "metadata": {
    "collapsed": false,
    "deletable": true,
    "editable": true
   },
   "outputs": [
    {
     "data": {
      "text/plain": [
       "u'bmw,gas,std,two,sedan,rwd,six,182,5400,16,22,41315'"
      ]
     },
     "execution_count": 14,
     "metadata": {},
     "output_type": "execute_result"
    }
   ],
   "source": [
    "#find the shortest line\n",
    "autoData.reduce(lambda x,y: x if len(x) < len(y) else y)"
   ]
  },
  {
   "cell_type": "code",
   "execution_count": 15,
   "metadata": {
    "collapsed": true,
    "deletable": true,
    "editable": true
   },
   "outputs": [],
   "source": [
    "#Aggregations"
   ]
  },
  {
   "cell_type": "code",
   "execution_count": 16,
   "metadata": {
    "collapsed": false,
    "deletable": true,
    "editable": true
   },
   "outputs": [
    {
     "data": {
      "text/plain": [
       "23"
      ]
     },
     "execution_count": 16,
     "metadata": {},
     "output_type": "execute_result"
    }
   ],
   "source": [
    "#Perform the same work as reduce\n",
    "seqOp = (lambda x, y: (x+y))\n",
    "combOp = (lambda x, y: (x+y))\n",
    "collData.aggregate((0), seqOp, combOp)"
   ]
  },
  {
   "cell_type": "code",
   "execution_count": 17,
   "metadata": {
    "collapsed": false,
    "deletable": true,
    "editable": true
   },
   "outputs": [
    {
     "data": {
      "text/plain": [
       "(23, 1680)"
      ]
     },
     "execution_count": 17,
     "metadata": {},
     "output_type": "execute_result"
    }
   ],
   "source": [
    "#Do addition and multiplication at the same time.\n",
    "#X now becomes a tuple for sequence\n",
    "seqOp = (lambda x, y: (x[0]+y, x[1]*y))\n",
    "#both X and Y are tuples\n",
    "combOp = (lambda x, y: (x[0]+y[0], x[1]*y[1]))\n",
    "collData.aggregate((0,1), seqOp, combOp)"
   ]
  },
  {
   "cell_type": "code",
   "execution_count": 18,
   "metadata": {
    "collapsed": true,
    "deletable": true,
    "editable": true
   },
   "outputs": [],
   "source": [
    "#............................................................................\n",
    "##   Functions in Spark\n",
    "#............................................................................"
   ]
  },
  {
   "cell_type": "code",
   "execution_count": 19,
   "metadata": {
    "collapsed": true,
    "deletable": true,
    "editable": true
   },
   "outputs": [],
   "source": [
    "#cleanse and transform an RDD\n",
    "def cleanseRDD(autoStr) :\n",
    "    if isinstance(autoStr, int) :\n",
    "        return autoStr\n",
    "    attList=autoStr.split(\",\")\n",
    "    #convert doors to a number\n",
    "    if attList[3] == \"two\" :\n",
    "         attList[3]=\"2\"\n",
    "    else :\n",
    "         attList[3]=\"4\"\n",
    "    #Convert Drive to uppercase\n",
    "    attList[5] = attList[5].upper()\n",
    "    return \",\".join(attList)"
   ]
  },
  {
   "cell_type": "code",
   "execution_count": 20,
   "metadata": {
    "collapsed": false,
    "deletable": true,
    "editable": true
   },
   "outputs": [
    {
     "data": {
      "text/plain": [
       "[u'MAKE,FUELTYPE,ASPIRE,4,BODY,DRIVE,CYLINDERS,HP,RPM,MPG-CITY,MPG-HWY,PRICE',\n",
       " u'subaru,gas,std,2,hatchback,FWD,four,69,4900,31,36,5118',\n",
       " u'chevrolet,gas,std,2,hatchback,FWD,three,48,5100,47,53,5151',\n",
       " u'mazda,gas,std,2,hatchback,FWD,four,68,5000,30,31,5195',\n",
       " u'toyota,gas,std,2,hatchback,FWD,four,62,4800,35,39,5348',\n",
       " u'mitsubishi,gas,std,2,hatchback,FWD,four,68,5500,37,41,5389',\n",
       " u'honda,gas,std,2,hatchback,FWD,four,60,5500,38,42,5399',\n",
       " u'nissan,gas,std,2,sedan,FWD,four,69,5200,31,37,5499',\n",
       " u'dodge,gas,std,2,hatchback,FWD,four,68,5500,37,41,5572',\n",
       " u'plymouth,gas,std,2,hatchback,FWD,four,68,5500,37,41,5572',\n",
       " u'mazda,gas,std,2,hatchback,FWD,four,68,5000,31,38,6095',\n",
       " u'mitsubishi,gas,std,2,hatchback,FWD,four,68,5500,31,38,6189',\n",
       " u'dodge,gas,std,4,hatchback,FWD,four,68,5500,31,38,6229',\n",
       " u'plymouth,gas,std,4,hatchback,FWD,four,68,5500,31,38,6229',\n",
       " u'chevrolet,gas,std,2,hatchback,FWD,four,70,5400,38,43,6295',\n",
       " u'toyota,gas,std,2,hatchback,FWD,four,62,4800,31,38,6338',\n",
       " u'dodge,gas,std,2,hatchback,FWD,four,68,5500,31,38,6377',\n",
       " u'honda,gas,std,2,hatchback,FWD,four,58,4800,49,54,6479',\n",
       " u'toyota,gas,std,4,hatchback,FWD,four,62,4800,31,38,6488',\n",
       " u'honda,gas,std,2,hatchback,FWD,four,76,6000,30,34,6529',\n",
       " u'chevrolet,gas,std,4,sedan,FWD,four,70,5400,38,43,6575',\n",
       " u'nissan,gas,std,2,sedan,FWD,four,69,5200,31,37,6649',\n",
       " u'mitsubishi,gas,std,2,hatchback,FWD,four,68,5500,31,38,6669',\n",
       " u'dodge,gas,std,4,sedan,FWD,four,68,5500,31,38,6692',\n",
       " u'plymouth,gas,std,4,sedan,FWD,four,68,5500,31,38,6692',\n",
       " u'mazda,gas,std,4,sedan,FWD,four,68,5000,31,38,6695',\n",
       " u'isuzu,gas,std,4,sedan,RWD,four,78,4800,24,29,6785',\n",
       " u'mazda,gas,std,2,hatchback,FWD,four,68,5000,31,38,6795',\n",
       " u'nissan,gas,std,4,sedan,FWD,four,69,5200,31,37,6849',\n",
       " u'honda,gas,std,2,hatchback,FWD,four,76,6000,31,38,6855',\n",
       " u'toyota,gas,std,4,wagon,FWD,four,62,4800,31,37,6918',\n",
       " u'toyota,gas,std,4,sedan,FWD,four,70,4800,30,37,6938',\n",
       " u'mitsubishi,gas,std,4,sedan,FWD,four,88,5000,25,32,6989',\n",
       " u'subaru,gas,std,2,hatchback,FWD,four,73,4400,26,31,7053',\n",
       " u'nissan,diesel,std,2,sedan,FWD,four,55,4800,45,50,7099',\n",
       " u'subaru,gas,std,4,sedan,FWD,four,82,4800,32,37,7126',\n",
       " u'honda,gas,std,2,hatchback,FWD,four,76,6000,30,34,7129',\n",
       " u'toyota,gas,std,4,hatchback,FWD,four,70,4800,30,37,7198',\n",
       " u'honda,gas,std,4,sedan,FWD,four,76,6000,30,34,7295',\n",
       " u'honda,gas,std,4,wagon,FWD,four,76,6000,30,34,7295',\n",
       " u'nissan,gas,std,2,sedan,FWD,four,69,5200,31,37,7299',\n",
       " u'nissan,gas,std,4,wagon,FWD,four,69,5200,31,37,7349',\n",
       " u'mazda,gas,std,4,sedan,FWD,four,68,5000,31,38,7395',\n",
       " u'subaru,gas,std,4,wagon,FWD,four,82,4800,28,32,7463',\n",
       " u'nissan,gas,std,4,sedan,FWD,four,69,5200,31,37,7499',\n",
       " u'subaru,gas,std,2,hatchback,4WD,four,73,4400,26,31,7603',\n",
       " u'dodge,gas,std,4,sedan,FWD,four,68,5500,31,38,7609',\n",
       " u'plymouth,gas,std,4,sedan,FWD,four,68,5500,31,38,7609',\n",
       " u'mitsubishi,gas,turbo,2,hatchback,FWD,four,102,5500,24,30,7689',\n",
       " u'toyota,gas,std,4,sedan,FWD,four,70,4800,38,47,7738',\n",
       " u'subaru,gas,std,4,sedan,FWD,four,82,4400,28,33,7775',\n",
       " u'volkswagen,diesel,std,2,sedan,FWD,four,52,4800,37,46,7775',\n",
       " u'toyota,diesel,std,4,hatchback,FWD,four,56,4500,38,47,7788',\n",
       " u'nissan,gas,std,2,hatchback,FWD,four,69,5200,31,37,7799',\n",
       " u'honda,gas,std,2,hatchback,FWD,four,86,5800,27,33,7895',\n",
       " u'toyota,gas,std,4,wagon,4WD,four,62,4800,27,32,7898',\n",
       " u'toyota,diesel,std,4,sedan,FWD,four,56,4500,34,36,7898',\n",
       " u'dodge,gas,turbo,2,hatchback,FWD,four,102,5500,24,30,7957',\n",
       " u'plymouth,gas,turbo,2,hatchback,FWD,four,102,5500,24,30,7957',\n",
       " u'volkswagen,gas,std,2,sedan,FWD,four,85,5250,27,34,7975',\n",
       " u'volkswagen,diesel,std,4,sedan,FWD,four,52,4800,37,46,7995',\n",
       " u'nissan,gas,std,4,wagon,FWD,four,69,5200,31,37,7999',\n",
       " u'subaru,gas,std,4,wagon,4WD,four,82,4800,23,29,8013',\n",
       " u'toyota,gas,std,2,sedan,RWD,four,70,4800,29,34,8058',\n",
       " u'mitsubishi,gas,std,4,sedan,FWD,four,88,5000,25,32,8189',\n",
       " u'volkswagen,gas,std,4,sedan,FWD,four,85,5250,27,34,8195',\n",
       " u'toyota,gas,std,2,hatchback,RWD,four,70,4800,29,34,8238',\n",
       " u'nissan,gas,std,2,hardtop,FWD,four,69,5200,31,37,8249',\n",
       " u'toyota,gas,std,4,hatchback,FWD,four,70,4800,28,34,8358',\n",
       " u'toyota,gas,std,2,hardtop,RWD,four,116,4800,24,30,8449',\n",
       " u'mazda,gas,std,4,sedan,FWD,four,84,4800,26,32,8495',\n",
       " u'volkswagen,gas,std,4,sedan,FWD,four,85,5250,27,34,8495',\n",
       " u'mitsubishi,gas,std,2,hatchback,FWD,four,88,5000,25,32,8499',\n",
       " u'toyota,gas,std,4,wagon,4WD,four,62,4800,27,32,8778',\n",
       " u'honda,gas,std,4,sedan,FWD,four,86,5800,27,33,8845',\n",
       " u'mazda,gas,std,2,hatchback,FWD,four,84,4800,26,32,8845',\n",
       " u'dodge,gas,std,4,wagon,FWD,four,88,5000,24,30,8921',\n",
       " u'plymouth,gas,std,4,wagon,FWD,four,88,5000,24,30,8921',\n",
       " u'toyota,gas,std,4,sedan,FWD,four,92,4200,29,34,8948',\n",
       " u'nissan,gas,std,4,hatchback,FWD,four,97,5200,27,34,8949',\n",
       " u'honda,gas,std,2,hatchback,FWD,four,86,5800,27,33,9095',\n",
       " u'subaru,gas,std,4,sedan,4WD,four,82,4800,24,25,9233',\n",
       " u'toyota,gas,std,4,sedan,FWD,four,70,4800,28,34,9258',\n",
       " u'mitsubishi,gas,turbo,4,sedan,FWD,four,116,5500,23,30,9279',\n",
       " u'mitsubishi,gas,std,4,sedan,FWD,four,116,5500,23,30,9279',\n",
       " u'toyota,gas,std,2,sedan,RWD,four,112,6600,26,29,9298',\n",
       " u'volkswagen,diesel,turbo,4,sedan,FWD,four,68,4500,37,42,9495',\n",
       " u'toyota,gas,std,2,hatchback,RWD,four,112,6600,26,29,9538',\n",
       " u'nissan,gas,std,4,sedan,FWD,four,97,5200,27,34,9549',\n",
       " u'toyota,gas,std,2,hardtop,RWD,four,116,4800,24,30,9639',\n",
       " u'mitsubishi,gas,turbo,2,hatchback,FWD,four,116,5500,23,30,9959',\n",
       " u'subaru,gas,std,4,sedan,FWD,four,94,5200,26,32,9960',\n",
       " u'volkswagen,gas,std,2,hatchback,FWD,four,90,5500,24,29,9980',\n",
       " u'toyota,gas,std,4,hatchback,FWD,four,92,4200,27,32,9988',\n",
       " u'toyota,gas,std,2,hatchback,RWD,four,116,4800,24,30,9989',\n",
       " u'volkswagen,gas,std,4,sedan,FWD,four,100,5500,26,32,9995',\n",
       " u'subaru,gas,std,4,wagon,FWD,four,94,5200,25,31,10198',\n",
       " u'mazda,gas,std,4,sedan,FWD,four,84,4800,26,32,10245',\n",
       " u'honda,gas,std,4,sedan,FWD,four,86,5800,27,33,10295',\n",
       " u'honda,gas,std,2,sedan,FWD,four,100,5500,25,31,10345',\n",
       " u'mazda,gas,std,2,hatchback,FWD,four,84,4800,26,32,10595',\n",
       " u'toyota,diesel,turbo,4,sedan,FWD,four,73,4500,30,33,10698',\n",
       " u'toyota,gas,std,4,sedan,FWD,four,92,4200,27,32,10898',\n",
       " u'mazda,gas,std,2,hatchback,RWD,two,101,6000,17,23,10945',\n",
       " u'isuzu,gas,std,2,hatchback,RWD,four,90,5000,24,29,11048',\n",
       " u'toyota,gas,std,2,hardtop,RWD,four,116,4800,24,30,11199',\n",
       " u'mazda,gas,std,4,hatchback,FWD,four,84,4800,26,32,11245',\n",
       " u'toyota,gas,std,4,hatchback,FWD,four,92,4200,27,32,11248',\n",
       " u'subaru,gas,turbo,4,sedan,4WD,four,111,4800,24,29,11259',\n",
       " u'toyota,gas,std,2,hatchback,RWD,four,116,4800,24,30,11549',\n",
       " u'volkswagen,gas,std,2,convertible,FWD,four,90,5500,24,29,11595',\n",
       " u'subaru,gas,turbo,4,wagon,4WD,four,111,4800,23,23,11694',\n",
       " u'mazda,gas,std,2,hatchback,RWD,two,101,6000,17,23,11845',\n",
       " u'saab,gas,std,2,hatchback,FWD,four,110,5250,21,28,11850',\n",
       " u'peugot,gas,std,4,sedan,RWD,four,97,5000,19,24,11900',\n",
       " u'saab,gas,std,4,sedan,FWD,four,110,5250,21,28,12170',\n",
       " u'volkswagen,gas,std,4,wagon,FWD,four,88,5500,25,31,12290',\n",
       " u'peugot,gas,std,4,wagon,RWD,four,97,5000,19,24,12440',\n",
       " u'mitsubishi,gas,turbo,2,hatchback,FWD,four,145,5000,19,24,12629',\n",
       " u'plymouth,gas,turbo,2,hatchback,RWD,four,145,5000,19,24,12764',\n",
       " u'volvo,gas,std,4,sedan,RWD,four,114,5400,23,28,12940',\n",
       " u'honda,gas,std,4,sedan,FWD,four,101,5800,24,28,12945',\n",
       " u'dodge,gas,turbo,2,hatchback,FWD,four,145,5000,19,24,12964',\n",
       " u'peugot,diesel,turbo,4,sedan,RWD,four,95,4150,28,33,13200',\n",
       " u'volkswagen,gas,std,4,sedan,FWD,five,110,5500,19,24,13295',\n",
       " u'volvo,gas,std,4,wagon,RWD,four,114,5400,23,28,13415',\n",
       " u'alfa-romero,gas,std,2,convertible,RWD,four,111,5000,21,27,13495',\n",
       " u'nissan,gas,std,4,sedan,FWD,six,152,5200,17,22,13499',\n",
       " u'nissan,gas,std,4,sedan,FWD,six,152,5200,19,25,13499',\n",
       " u'mazda,gas,std,2,hatchback,RWD,two,101,6000,17,23,13645',\n",
       " u'volkswagen,diesel,turbo,4,sedan,FWD,four,68,4500,33,38,13845',\n",
       " u'peugot,diesel,turbo,4,wagon,RWD,four,95,4150,25,25,13860',\n",
       " u'audi,gas,std,4,sedan,FWD,four,102,5500,24,30,13950',\n",
       " u'nissan,gas,std,4,wagon,FWD,six,152,5200,17,22,14399',\n",
       " u'mitsubishi,gas,turbo,2,hatchback,FWD,four,145,5000,19,24,14489',\n",
       " u'mitsubishi,gas,turbo,2,hatchback,FWD,four,145,5000,19,24,14869',\n",
       " u'saab,gas,std,2,hatchback,FWD,four,110,5250,21,28,15040',\n",
       " u'audi,gas,std,2,sedan,FWD,five,110,5500,19,25,15250',\n",
       " u'saab,gas,std,4,sedan,FWD,four,110,5250,21,28,15510',\n",
       " u'peugot,gas,std,4,sedan,RWD,four,95,5000,19,24,15580',\n",
       " u'mazda,gas,std,2,hatchback,RWD,two,135,6000,16,23,15645',\n",
       " u'toyota,gas,std,4,sedan,RWD,six,156,5200,20,24,15690',\n",
       " u'toyota,gas,std,4,wagon,RWD,six,156,5200,19,24,15750',\n",
       " u'volvo,gas,std,4,sedan,RWD,four,114,5400,24,28,15985',\n",
       " u'toyota,gas,std,2,hatchback,RWD,six,161,5200,19,24,15998',\n",
       " u'bmw,gas,std,2,sedan,RWD,four,101,5800,23,29,16430',\n",
       " u'alfa-romero,gas,std,2,convertible,RWD,four,111,5000,21,27,16500',\n",
       " u'alfa-romero,gas,std,2,hatchback,RWD,six,154,5000,19,26,16500',\n",
       " u'mercury,gas,turbo,2,hatchback,RWD,four,175,5000,19,24,16503',\n",
       " u'volvo,gas,std,4,wagon,RWD,four,114,5400,24,28,16515',\n",
       " u'toyota,gas,std,2,hatchback,RWD,six,161,5200,20,24,16558',\n",
       " u'peugot,gas,std,4,sedan,RWD,four,97,5000,19,24,16630',\n",
       " u'peugot,gas,std,4,wagon,RWD,four,95,5000,19,24,16695',\n",
       " u'volvo,gas,std,4,sedan,RWD,four,114,5400,23,28,16845',\n",
       " u'peugot,diesel,turbo,4,sedan,RWD,four,95,4150,28,33,16900',\n",
       " u'bmw,gas,std,4,sedan,RWD,four,101,5800,23,29,16925',\n",
       " u'peugot,diesel,turbo,4,wagon,RWD,four,95,4150,25,25,17075',\n",
       " u'nissan,gas,std,2,hatchback,RWD,six,160,5200,19,25,17199',\n",
       " u'audi,gas,std,4,sedan,4WD,five,115,5500,18,22,17450',\n",
       " u'toyota,gas,std,2,convertible,RWD,four,116,4800,24,30,17669',\n",
       " u'audi,gas,std,4,sedan,FWD,five,110,5500,19,25,17710',\n",
       " u'peugot,diesel,turbo,4,sedan,RWD,four,95,4150,28,33,17950',\n",
       " u'peugot,gas,turbo,4,sedan,RWD,four,142,5600,18,24,18150',\n",
       " u'saab,gas,turbo,2,hatchback,FWD,four,160,5500,19,26,18150',\n",
       " u'mazda,gas,std,4,sedan,RWD,four,120,5000,19,27,18280',\n",
       " u'mazda,diesel,std,4,sedan,RWD,four,72,4200,31,39,18344',\n",
       " u'nissan,gas,std,2,hatchback,RWD,six,160,5200,19,25,18399',\n",
       " u'volvo,gas,turbo,4,sedan,RWD,four,162,5100,17,22,18420',\n",
       " u'saab,gas,turbo,4,sedan,FWD,four,160,5500,19,26,18620',\n",
       " u'audi,gas,std,4,wagon,FWD,five,110,5500,19,25,18920',\n",
       " u'volvo,gas,turbo,4,wagon,RWD,four,162,5100,17,22,18950',\n",
       " u'volvo,gas,turbo,4,sedan,RWD,four,160,5300,19,25,19045',\n",
       " u'nissan,gas,turbo,2,hatchback,RWD,six,200,5200,17,23,19699',\n",
       " u'bmw,gas,std,2,sedan,RWD,six,121,4250,21,28,20970',\n",
       " u'bmw,gas,std,4,sedan,RWD,six,121,4250,21,28,21105',\n",
       " u'volvo,gas,std,4,sedan,RWD,six,134,5500,18,23,21485',\n",
       " u'porsche,gas,std,2,hatchback,RWD,four,143,5500,19,27,22018',\n",
       " u'volvo,diesel,turbo,4,sedan,RWD,six,106,4800,26,27,22470',\n",
       " u'volvo,gas,turbo,4,sedan,RWD,four,114,5400,19,25,22625',\n",
       " u'audi,gas,turbo,4,sedan,FWD,five,140,5500,17,20,23875',\n",
       " u'bmw,gas,std,4,sedan,RWD,six,121,4250,20,25,24565',\n",
       " u'mercedes-benz,diesel,turbo,4,sedan,RWD,five,123,4350,22,25,25552',\n",
       " u'mercedes-benz,diesel,turbo,2,hardtop,RWD,five,123,4350,22,25,28176',\n",
       " u'mercedes-benz,diesel,turbo,4,wagon,RWD,five,123,4350,22,25,28248',\n",
       " u'bmw,gas,std,4,sedan,RWD,six,182,5400,16,22,30760',\n",
       " u'mercedes-benz,diesel,turbo,4,sedan,RWD,five,123,4350,22,25,31600',\n",
       " u'jaguar,gas,std,4,sedan,RWD,six,176,4750,15,19,32250',\n",
       " u'porsche,gas,std,2,hardtop,RWD,six,207,5900,17,25,32528',\n",
       " u'porsche,gas,std,2,hardtop,RWD,six,207,5900,17,25,34028',\n",
       " u'mercedes-benz,gas,std,4,sedan,RWD,eight,155,4750,16,18,34184',\n",
       " u'mercedes-benz,gas,std,2,convertible,RWD,eight,155,4750,16,18,35056',\n",
       " u'jaguar,gas,std,4,sedan,RWD,six,176,4750,15,19,35550',\n",
       " u'jaguar,gas,std,2,sedan,RWD,twelve,262,5000,13,17,36000',\n",
       " u'bmw,gas,std,4,sedan,RWD,six,182,5400,15,20,36880',\n",
       " u'porsche,gas,std,2,convertible,RWD,six,207,5900,17,25,37028',\n",
       " u'mercedes-benz,gas,std,4,sedan,RWD,eight,184,4500,14,16,40960',\n",
       " u'bmw,gas,std,2,sedan,RWD,six,182,5400,16,22,41315',\n",
       " u'mercedes-benz,gas,std,2,hardtop,RWD,eight,184,4500,14,16,45400']"
      ]
     },
     "execution_count": 20,
     "metadata": {},
     "output_type": "execute_result"
    }
   ],
   "source": [
    "cleanedData=autoData.map(cleanseRDD)\n",
    "cleanedData.collect()"
   ]
  },
  {
   "cell_type": "code",
   "execution_count": 21,
   "metadata": {
    "collapsed": true,
    "deletable": true,
    "editable": true
   },
   "outputs": [],
   "source": [
    "#Sue a function to perform reduce \n",
    "def getMPG( autoStr) :\n",
    "    if isinstance(autoStr, int) :\n",
    "        return autoStr\n",
    "    attList=autoStr.split(\",\")\n",
    "    if attList[9].isdigit() :\n",
    "        return int(attList[9])\n",
    "    else:\n",
    "        return 0"
   ]
  },
  {
   "cell_type": "code",
   "execution_count": 22,
   "metadata": {
    "collapsed": false,
    "deletable": true,
    "editable": true
   },
   "outputs": [
    {
     "data": {
      "text/plain": [
       "25"
      ]
     },
     "execution_count": 22,
     "metadata": {},
     "output_type": "execute_result"
    }
   ],
   "source": [
    "#find average MPG-City for all cars    \n",
    "autoData.reduce(lambda x,y : getMPG(x) + getMPG(y)) \\\n",
    "    / (autoData.count()-1)"
   ]
  },
  {
   "cell_type": "code",
   "execution_count": 23,
   "metadata": {
    "collapsed": true,
    "deletable": true,
    "editable": true
   },
   "outputs": [],
   "source": [
    "#............................................................................\n",
    "##   Working with Key/Value RDDs\n",
    "#............................................................................"
   ]
  },
  {
   "cell_type": "code",
   "execution_count": 24,
   "metadata": {
    "collapsed": false,
    "deletable": true,
    "editable": true
   },
   "outputs": [
    {
     "data": {
      "text/plain": [
       "[u'MAKE',\n",
       " u'subaru',\n",
       " u'chevrolet',\n",
       " u'mazda',\n",
       " u'toyota',\n",
       " u'mitsubishi',\n",
       " u'honda',\n",
       " u'nissan',\n",
       " u'dodge',\n",
       " u'plymouth',\n",
       " u'mazda',\n",
       " u'mitsubishi',\n",
       " u'dodge',\n",
       " u'plymouth',\n",
       " u'chevrolet',\n",
       " u'toyota',\n",
       " u'dodge',\n",
       " u'honda',\n",
       " u'toyota',\n",
       " u'honda',\n",
       " u'chevrolet',\n",
       " u'nissan',\n",
       " u'mitsubishi',\n",
       " u'dodge',\n",
       " u'plymouth',\n",
       " u'mazda',\n",
       " u'isuzu',\n",
       " u'mazda',\n",
       " u'nissan',\n",
       " u'honda',\n",
       " u'toyota',\n",
       " u'toyota',\n",
       " u'mitsubishi',\n",
       " u'subaru',\n",
       " u'nissan',\n",
       " u'subaru',\n",
       " u'honda',\n",
       " u'toyota',\n",
       " u'honda',\n",
       " u'honda',\n",
       " u'nissan',\n",
       " u'nissan',\n",
       " u'mazda',\n",
       " u'subaru',\n",
       " u'nissan',\n",
       " u'subaru',\n",
       " u'dodge',\n",
       " u'plymouth',\n",
       " u'mitsubishi',\n",
       " u'toyota',\n",
       " u'subaru',\n",
       " u'volkswagen',\n",
       " u'toyota',\n",
       " u'nissan',\n",
       " u'honda',\n",
       " u'toyota',\n",
       " u'toyota',\n",
       " u'dodge',\n",
       " u'plymouth',\n",
       " u'volkswagen',\n",
       " u'volkswagen',\n",
       " u'nissan',\n",
       " u'subaru',\n",
       " u'toyota',\n",
       " u'mitsubishi',\n",
       " u'volkswagen',\n",
       " u'toyota',\n",
       " u'nissan',\n",
       " u'toyota',\n",
       " u'toyota',\n",
       " u'mazda',\n",
       " u'volkswagen',\n",
       " u'mitsubishi',\n",
       " u'toyota',\n",
       " u'honda',\n",
       " u'mazda',\n",
       " u'dodge',\n",
       " u'plymouth',\n",
       " u'toyota',\n",
       " u'nissan',\n",
       " u'honda',\n",
       " u'subaru',\n",
       " u'toyota',\n",
       " u'mitsubishi',\n",
       " u'mitsubishi',\n",
       " u'toyota',\n",
       " u'volkswagen',\n",
       " u'toyota',\n",
       " u'nissan',\n",
       " u'toyota',\n",
       " u'mitsubishi',\n",
       " u'subaru',\n",
       " u'volkswagen',\n",
       " u'toyota',\n",
       " u'toyota',\n",
       " u'volkswagen',\n",
       " u'subaru',\n",
       " u'mazda',\n",
       " u'honda',\n",
       " u'honda',\n",
       " u'mazda',\n",
       " u'toyota',\n",
       " u'toyota',\n",
       " u'mazda',\n",
       " u'isuzu',\n",
       " u'toyota',\n",
       " u'mazda',\n",
       " u'toyota',\n",
       " u'subaru',\n",
       " u'toyota',\n",
       " u'volkswagen',\n",
       " u'subaru',\n",
       " u'mazda',\n",
       " u'saab',\n",
       " u'peugot',\n",
       " u'saab',\n",
       " u'volkswagen',\n",
       " u'peugot',\n",
       " u'mitsubishi',\n",
       " u'plymouth',\n",
       " u'volvo',\n",
       " u'honda',\n",
       " u'dodge',\n",
       " u'peugot',\n",
       " u'volkswagen',\n",
       " u'volvo',\n",
       " u'alfa-romero',\n",
       " u'nissan',\n",
       " u'nissan',\n",
       " u'mazda',\n",
       " u'volkswagen',\n",
       " u'peugot',\n",
       " u'audi',\n",
       " u'nissan',\n",
       " u'mitsubishi',\n",
       " u'mitsubishi',\n",
       " u'saab',\n",
       " u'audi',\n",
       " u'saab',\n",
       " u'peugot',\n",
       " u'mazda',\n",
       " u'toyota',\n",
       " u'toyota',\n",
       " u'volvo',\n",
       " u'toyota',\n",
       " u'bmw',\n",
       " u'alfa-romero',\n",
       " u'alfa-romero',\n",
       " u'mercury',\n",
       " u'volvo',\n",
       " u'toyota',\n",
       " u'peugot',\n",
       " u'peugot',\n",
       " u'volvo',\n",
       " u'peugot',\n",
       " u'bmw',\n",
       " u'peugot',\n",
       " u'nissan',\n",
       " u'audi',\n",
       " u'toyota',\n",
       " u'audi',\n",
       " u'peugot',\n",
       " u'peugot',\n",
       " u'saab',\n",
       " u'mazda',\n",
       " u'mazda',\n",
       " u'nissan',\n",
       " u'volvo',\n",
       " u'saab',\n",
       " u'audi',\n",
       " u'volvo',\n",
       " u'volvo',\n",
       " u'nissan',\n",
       " u'bmw',\n",
       " u'bmw',\n",
       " u'volvo',\n",
       " u'porsche',\n",
       " u'volvo',\n",
       " u'volvo',\n",
       " u'audi',\n",
       " u'bmw',\n",
       " u'mercedes-benz',\n",
       " u'mercedes-benz',\n",
       " u'mercedes-benz',\n",
       " u'bmw',\n",
       " u'mercedes-benz',\n",
       " u'jaguar',\n",
       " u'porsche',\n",
       " u'porsche',\n",
       " u'mercedes-benz',\n",
       " u'mercedes-benz',\n",
       " u'jaguar',\n",
       " u'jaguar',\n",
       " u'bmw',\n",
       " u'porsche',\n",
       " u'mercedes-benz',\n",
       " u'bmw',\n",
       " u'mercedes-benz']"
      ]
     },
     "execution_count": 24,
     "metadata": {},
     "output_type": "execute_result"
    }
   ],
   "source": [
    "#create a KV RDD of auto Brand and Horsepower\n",
    "cylData = autoData.map( lambda x: ( x.split(\",\")[0], \\\n",
    "    x.split(\",\")[7]))\n",
    "cylData.take(5)\n",
    "cylData.keys().collect()"
   ]
  },
  {
   "cell_type": "code",
   "execution_count": 25,
   "metadata": {
    "collapsed": true,
    "deletable": true,
    "editable": true
   },
   "outputs": [],
   "source": [
    "#Remove header row\n",
    "header = cylData.first()\n",
    "cylHPData= cylData.filter(lambda line: line != header)"
   ]
  },
  {
   "cell_type": "code",
   "execution_count": 26,
   "metadata": {
    "collapsed": false,
    "deletable": true,
    "editable": true
   },
   "outputs": [
    {
     "data": {
      "text/plain": [
       "[(u'dodge', (675, 8)),\n",
       " (u'mercury', (u'175', 1)),\n",
       " (u'jaguar', (614, 3)),\n",
       " (u'alfa-romero', (376, 3)),\n",
       " (u'nissan', (1846, 18)),\n",
       " (u'toyota', (2969, 32)),\n",
       " (u'plymouth', (607, 7)),\n",
       " (u'mazda', (1390, 16)),\n",
       " (u'subaru', (1035, 12)),\n",
       " (u'peugot', (1098, 11)),\n",
       " (u'porsche', (764, 4)),\n",
       " (u'isuzu', (168, 2)),\n",
       " (u'chevrolet', (188, 3)),\n",
       " (u'honda', (1043, 13)),\n",
       " (u'volvo', (1408, 11)),\n",
       " (u'bmw', (1111, 8)),\n",
       " (u'mercedes-benz', (1170, 8)),\n",
       " (u'mitsubishi', (1353, 13)),\n",
       " (u'saab', (760, 6)),\n",
       " (u'volkswagen', (973, 12)),\n",
       " (u'audi', (687, 6))]"
      ]
     },
     "execution_count": 26,
     "metadata": {},
     "output_type": "execute_result"
    }
   ],
   "source": [
    "#Add a count 1 to each record and then reduce to find totals of HP and counts\n",
    "brandValues=cylHPData.mapValues(lambda x: (x, 1)) \\\n",
    "    .reduceByKey(lambda x, y: (int(x[0]) + int(y[0]), \\\n",
    "    x[1] + y[1])) \n",
    "brandValues.collect()"
   ]
  },
  {
   "cell_type": "code",
   "execution_count": 27,
   "metadata": {
    "collapsed": false,
    "deletable": true,
    "editable": true
   },
   "outputs": [
    {
     "data": {
      "text/plain": [
       "[(u'dodge', 84),\n",
       " (u'mercury', 175),\n",
       " (u'jaguar', 204),\n",
       " (u'alfa-romero', 125),\n",
       " (u'nissan', 102),\n",
       " (u'toyota', 92),\n",
       " (u'plymouth', 86),\n",
       " (u'mazda', 86),\n",
       " (u'subaru', 86),\n",
       " (u'peugot', 99),\n",
       " (u'porsche', 191),\n",
       " (u'isuzu', 84),\n",
       " (u'chevrolet', 62),\n",
       " (u'honda', 80),\n",
       " (u'volvo', 128),\n",
       " (u'bmw', 138),\n",
       " (u'mercedes-benz', 146),\n",
       " (u'mitsubishi', 104),\n",
       " (u'saab', 126),\n",
       " (u'volkswagen', 81),\n",
       " (u'audi', 114)]"
      ]
     },
     "execution_count": 27,
     "metadata": {},
     "output_type": "execute_result"
    }
   ],
   "source": [
    "#find average by dividing HP total by count total\n",
    "brandValues.mapValues(lambda x: int(x[0])/int(x[1])). \\\n",
    "    collect()"
   ]
  },
  {
   "cell_type": "code",
   "execution_count": 28,
   "metadata": {
    "collapsed": true,
    "deletable": true,
    "editable": true
   },
   "outputs": [],
   "source": [
    "#............................................................................\n",
    "##   Advanced Spark : Accumulators & Broadcast Variables\n",
    "#............................................................................"
   ]
  },
  {
   "cell_type": "code",
   "execution_count": 29,
   "metadata": {
    "collapsed": true,
    "deletable": true,
    "editable": true
   },
   "outputs": [],
   "source": [
    "#function that splits the line as well as counts sedans and hatchbacks\n",
    "#Speed optimization\n",
    "\n",
    "    \n",
    "#Initialize accumulator\n",
    "sedanCount = sc.accumulator(0)\n",
    "hatchbackCount =sc.accumulator(0)"
   ]
  },
  {
   "cell_type": "code",
   "execution_count": 30,
   "metadata": {
    "collapsed": true,
    "deletable": true,
    "editable": true
   },
   "outputs": [],
   "source": [
    "#Set Broadcast variable\n",
    "sedanText=sc.broadcast(\"sedan\")\n",
    "hatchbackText=sc.broadcast(\"hatchback\")"
   ]
  },
  {
   "cell_type": "code",
   "execution_count": 31,
   "metadata": {
    "collapsed": true,
    "deletable": true,
    "editable": true
   },
   "outputs": [],
   "source": [
    "def splitLines(line) :\n",
    "\n",
    "    global sedanCount\n",
    "    global hatchbackCount\n",
    "\n",
    "    #Use broadcast variable to do comparison and set accumulator\n",
    "    if sedanText.value in line:\n",
    "        sedanCount +=1\n",
    "    if hatchbackText.value in line:\n",
    "        hatchbackCount +=1\n",
    "        \n",
    "    return line.split(\",\")"
   ]
  },
  {
   "cell_type": "code",
   "execution_count": 32,
   "metadata": {
    "collapsed": true,
    "deletable": true,
    "editable": true
   },
   "outputs": [],
   "source": [
    "#do the map\n",
    "splitData=autoData.map(splitLines)"
   ]
  },
  {
   "cell_type": "code",
   "execution_count": 33,
   "metadata": {
    "collapsed": false,
    "deletable": true,
    "editable": true
   },
   "outputs": [
    {
     "name": "stdout",
     "output_type": "stream",
     "text": [
      "92 67\n"
     ]
    }
   ],
   "source": [
    "#Make it execute the map (lazy execution)\n",
    "splitData.count()\n",
    "print sedanCount, hatchbackCount"
   ]
  },
  {
   "cell_type": "code",
   "execution_count": 34,
   "metadata": {
    "collapsed": true,
    "deletable": true,
    "editable": true
   },
   "outputs": [],
   "source": [
    "#............................................................................\n",
    "##   Advanced Spark : Partitions\n",
    "#............................................................................"
   ]
  },
  {
   "cell_type": "code",
   "execution_count": 35,
   "metadata": {
    "collapsed": false,
    "deletable": true,
    "editable": true
   },
   "outputs": [
    {
     "data": {
      "text/plain": [
       "5"
      ]
     },
     "execution_count": 35,
     "metadata": {},
     "output_type": "execute_result"
    }
   ],
   "source": [
    "collData.getNumPartitions()\n",
    "\n",
    "#Specify no. of partitions.\n",
    "collData=sc.parallelize([3,5,4,7,4],2)\n",
    "collData.cache()\n",
    "collData.count()"
   ]
  },
  {
   "cell_type": "code",
   "execution_count": 36,
   "metadata": {
    "collapsed": false,
    "deletable": true,
    "editable": true
   },
   "outputs": [
    {
     "data": {
      "text/plain": [
       "2"
      ]
     },
     "execution_count": 36,
     "metadata": {},
     "output_type": "execute_result"
    }
   ],
   "source": [
    "collData.getNumPartitions()"
   ]
  }
 ],
 "metadata": {
  "kernelspec": {
   "display_name": "Python 2",
   "language": "python",
   "name": "python2"
  },
  "language_info": {
   "codemirror_mode": {
    "name": "ipython",
    "version": 2
   },
   "file_extension": ".py",
   "mimetype": "text/x-python",
   "name": "python",
   "nbconvert_exporter": "python",
   "pygments_lexer": "ipython2",
   "version": "2.7.5"
  }
 },
 "nbformat": 4,
 "nbformat_minor": 2
}
