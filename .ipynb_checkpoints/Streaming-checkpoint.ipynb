{
 "cells": [
  {
   "cell_type": "code",
   "execution_count": 3,
   "metadata": {
    "collapsed": true
   },
   "outputs": [],
   "source": [
    "import os\n",
    "os.environ['PYSPARK_PYTHON'] = 'python2'\n",
    "import pyspark\n",
    "sc = pyspark.SparkContext('local[*]')\n",
    "from pyspark.streaming import StreamingContext"
   ]
  },
  {
   "cell_type": "code",
   "execution_count": 2,
   "metadata": {
    "collapsed": true
   },
   "outputs": [],
   "source": [
    "#............................................................................\n",
    "##   Streaming with simple data\n",
    "#............................................................................\n"
   ]
  },
  {
   "cell_type": "code",
   "execution_count": 3,
   "metadata": {
    "collapsed": true
   },
   "outputs": [],
   "source": [
    "vc = [[-0.1, -0.2], [0.1, 0.3], [1.1, 1.5], [0.9, 0.9]]\n",
    "dvc = [sc.parallelize(i, 1) for i in vc]\n",
    "ssc = StreamingContext(sc, 2)\n",
    "input_stream = ssc.queueStream(dvc)"
   ]
  },
  {
   "cell_type": "code",
   "execution_count": 4,
   "metadata": {
    "collapsed": true
   },
   "outputs": [],
   "source": [
    "def get_output(rdd):\n",
    "    print(rdd.collect())\n",
    "input_stream.foreachRDD(get_output)"
   ]
  },
  {
   "cell_type": "code",
   "execution_count": 5,
   "metadata": {},
   "outputs": [
    {
     "name": "stdout",
     "output_type": "stream",
     "text": [
      "[-0.1, -0.2]\n",
      "[0.1, 0.3]\n",
      "[1.1, 1.5]\n",
      "[0.9, 0.9]\n",
      "[]\n",
      "[]\n"
     ]
    }
   ],
   "source": [
    "ssc.start()"
   ]
  },
  {
   "cell_type": "code",
   "execution_count": 7,
   "metadata": {},
   "outputs": [
    {
     "name": "stdout",
     "output_type": "stream",
     "text": [
      "[]\n"
     ]
    }
   ],
   "source": [
    "ssc.stop()"
   ]
  },
  {
   "cell_type": "code",
   "execution_count": 1,
   "metadata": {
    "collapsed": true
   },
   "outputs": [],
   "source": [
    "#............................................................................\n",
    "##   Streaming with TCP/IP data\n",
    "#............................................................................\n"
   ]
  },
  {
   "cell_type": "code",
   "execution_count": 4,
   "metadata": {},
   "outputs": [],
   "source": [
    "#Create streaming context with latency of 1\n",
    "streamContext = StreamingContext(sc,3)"
   ]
  },
  {
   "cell_type": "code",
   "execution_count": 5,
   "metadata": {
    "collapsed": true
   },
   "outputs": [],
   "source": [
    "totalLines=0\n",
    "lines = streamContext.socketTextStream(\"localhost\", 9000)"
   ]
  },
  {
   "cell_type": "code",
   "execution_count": 6,
   "metadata": {
    "collapsed": true
   },
   "outputs": [],
   "source": [
    "#Word count within RDD    \n",
    "words = lines.flatMap(lambda line: line.split(\" \"))\n",
    "pairs = words.map(lambda word: (word, 1))\n",
    "wordCounts = pairs.reduceByKey(lambda x, y: x + y)\n",
    "wordCounts.pprint(5)"
   ]
  },
  {
   "cell_type": "code",
   "execution_count": 7,
   "metadata": {
    "collapsed": true
   },
   "outputs": [],
   "source": [
    "#Count lines\n",
    "totalLines=0\n",
    "linesCount=0\n",
    "def computeMetrics(rdd):\n",
    "    global totalLines\n",
    "    global linesCount\n",
    "    linesCount=rdd.count()\n",
    "    totalLines+=linesCount\n",
    "    print rdd.collect()\n",
    "    print \"Lines in RDD :\", linesCount,\" Total Lines:\",totalLines"
   ]
  },
  {
   "cell_type": "code",
   "execution_count": 8,
   "metadata": {
    "collapsed": true
   },
   "outputs": [],
   "source": [
    "lines.foreachRDD(computeMetrics)"
   ]
  },
  {
   "cell_type": "code",
   "execution_count": 9,
   "metadata": {
    "collapsed": true
   },
   "outputs": [],
   "source": [
    "#Compute window metrics\n",
    "def windowMetrics(rdd):\n",
    "    print \"Window RDD size:\", rdd.count()"
   ]
  },
  {
   "cell_type": "code",
   "execution_count": 10,
   "metadata": {
    "collapsed": true
   },
   "outputs": [],
   "source": [
    "windowedRDD=lines.window(6,3)\n",
    "windowedRDD.foreachRDD(windowMetrics)"
   ]
  },
  {
   "cell_type": "code",
   "execution_count": 11,
   "metadata": {},
   "outputs": [
    {
     "name": "stdout",
     "output_type": "stream",
     "text": [
      "-------------------------------------------\n",
      "Time: 2017-03-02 11:38:33\n",
      "-------------------------------------------\n",
      "(u'and', 2)\n",
      "(u'Vinci', 2)\n",
      "(u'I', 1)\n",
      "(u'ever', 1)\n",
      "(u'figures', 1)\n",
      "...\n",
      "\n",
      "[u\"The Da Vinci Code's backtory on various religious historical figures and such were interesting at times\", u\"I also think The Da Vinci Code sucked balls and it's the worst piece of shit I've ever read.\"]\n",
      "Lines in RDD : 2  Total Lines: 2\n",
      "Window RDD size: 2\n",
      "-------------------------------------------\n",
      "Time: 2017-03-02 11:38:36\n",
      "-------------------------------------------\n",
      "(u'is', 1)\n",
      "(u'The', 1)\n",
      "(u'Vinci', 1)\n",
      "(u'awesome.', 1)\n",
      "(u'Code', 1)\n",
      "...\n",
      "\n",
      "[u'The Da Vinci Code is awesome.']\n",
      "Lines in RDD : 1  Total Lines: 3\n",
      "Window RDD size: 3\n",
      "-------------------------------------------\n",
      "Time: 2017-03-02 11:38:39\n",
      "-------------------------------------------\n",
      "(u'and', 1)\n",
      "(u'8230;.', 1)\n",
      "(u'slow.....', 1)\n",
      "(u'would', 1)\n",
      "(u'vinci', 1)\n",
      "...\n",
      "\n",
      "[u'da vinci code sucked too long and too slow.....', u'DA VINCI CODE-SUCKED BALLZ.', u'I really enjoyed the Da Vinci Code but thought I would be disappointed in the other books & # 8230;.']\n",
      "Lines in RDD : 3  Total Lines: 6\n",
      "Window RDD size: 4\n",
      "-------------------------------------------\n",
      "Time: 2017-03-02 11:38:42\n",
      "-------------------------------------------\n",
      "(u'I', 1)\n",
      "(u'the', 1)\n",
      "(u'hate', 1)\n",
      "(u'Vinci', 1)\n",
      "(u'Code', 1)\n",
      "...\n",
      "\n",
      "[u'I hate the Da Vinci Code']\n",
      "Lines in RDD : 1  Total Lines: 7\n",
      "Window RDD size:"
     ]
    }
   ],
   "source": [
    "streamContext.start()"
   ]
  },
  {
   "cell_type": "code",
   "execution_count": 12,
   "metadata": {},
   "outputs": [
    {
     "name": "stdout",
     "output_type": "stream",
     "text": [
      " 4\n"
     ]
    }
   ],
   "source": [
    "streamContext.stop()"
   ]
  },
  {
   "cell_type": "code",
   "execution_count": 13,
   "metadata": {},
   "outputs": [
    {
     "name": "stdout",
     "output_type": "stream",
     "text": [
      "Overall lines : 7\n"
     ]
    }
   ],
   "source": [
    "print \"Overall lines :\", totalLines"
   ]
  },
  {
   "cell_type": "code",
   "execution_count": null,
   "metadata": {
    "collapsed": true
   },
   "outputs": [],
   "source": []
  }
 ],
 "metadata": {
  "kernelspec": {
   "display_name": "Python 2",
   "language": "python",
   "name": "python2"
  },
  "language_info": {
   "codemirror_mode": {
    "name": "ipython",
    "version": 2
   },
   "file_extension": ".py",
   "mimetype": "text/x-python",
   "name": "python",
   "nbconvert_exporter": "python",
   "pygments_lexer": "ipython2",
   "version": "2.7.13"
  }
 },
 "nbformat": 4,
 "nbformat_minor": 2
}
